{
 "cells": [
  {
   "cell_type": "code",
   "execution_count": null,
   "metadata": {},
   "outputs": [],
   "source": [
    "X_train, X_test, y_train, y_test = train_test_split(X, y, test_size=0.8, random_state=42)\n",
    "colors = np.array([x for x in \"bgrcmyk\"])\n",
    "plt.scatter(X_train[:, 0], X_train[:, 1], c=colors[list(y_train)])\n",
    "plt.title('Scatter plot')\n",
    "plt.xlabel('x')\n",
    "plt.ylabel('y')\n",
    "plt.show()\n",
    "colors = np.array([x for x in \"bgrcmyk\"])\n",
    "plt.scatter(X_test[:, 0], X_test[:, 1], c=colors[list(y_test)])\n",
    "plt.title('Scatter plot')\n",
    "plt.xlabel('x')\n",
    "plt.ylabel('y')\n",
    "plt.show()\n",
    "from sklearn.neighbors import KNeighborsClassifier\n",
    "from sklearn import neighbors\n",
    "from sklearn.metrics import classification_report\n",
    "from sklearn.metrics import confusion_matrix\n",
    "from sklearn.metrics import accuracy_score\n",
    "knn = neighbors.KNeighborsClassifier(n_neighbors=1)\n",
    "knn.fit(X_train, y_train)\n",
    "y_pred = knn.predict(X_test)\n",
    "\n",
    "print(accuracy_score(y_test, y_pred))\n",
    "print(classification_report(y_test, y_pred))\n",
    "print(confusion_matrix(y_test, y_pred))\n"
   ]
  },
  {
   "cell_type": "code",
   "execution_count": null,
   "metadata": {},
   "outputs": [],
   "source": [
    "import numpy\n",
    "import matplotlib.pyplot as plt\n",
    "import pandas as pd\n",
    "# parameter header is set to none because there is no header\n",
    "# remove header parameter if header is present\n",
    "data = pd.read_csv('iris.data.txt', header=None)\n",
    "X=data.iloc[:,0:4].values\n",
    "y=data.iloc[:,-1].values\n",
    "print(numpy.unique(y))\n",
    "\n",
    "for i in range(len(y)):\n",
    "    if y[i] == \"Iris-setosa\":\n",
    "        y[i] = 0\n",
    "    elif y[i] == \"Iris-versicolor\":\n",
    "        y[i] = 1\n",
    "    elif y[i] ==\"Iris-virginica\":\n",
    "        y[i] = 2\n",
    "print(X)\n",
    "print(y)"
   ]
  }
 ],
 "metadata": {
  "kernelspec": {
   "display_name": "Python 3",
   "language": "python",
   "name": "python3"
  },
  "language_info": {
   "codemirror_mode": {
    "name": "ipython",
    "version": 3
   },
   "file_extension": ".py",
   "mimetype": "text/x-python",
   "name": "python",
   "nbconvert_exporter": "python",
   "pygments_lexer": "ipython3",
   "version": "3.7.3"
  }
 },
 "nbformat": 4,
 "nbformat_minor": 2
}
