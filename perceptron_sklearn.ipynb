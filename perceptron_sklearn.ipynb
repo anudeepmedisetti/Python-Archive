{
 "cells": [
  {
   "cell_type": "markdown",
   "metadata": {},
   "source": [
    "# Perceptron\n",
    "Google : sklearn perceptron\n",
    "\n",
    "And you should find the following documentation page : https://scikit-learn.org/stable/modules/generated/sklearn.linear_model.Perceptron.html"
   ]
  },
  {
   "cell_type": "markdown",
   "metadata": {},
   "source": [
    "## Template example on the sklearn website\n",
    "```\n",
    "from sklearn.datasets import load_digits\n",
    ">>> from sklearn.linear_model import Perceptron\n",
    ">>> X, y = load_digits(return_X_y=True)\n",
    ">>> clf = Perceptron(tol=1e-3, random_state=0)\n",
    ">>> clf.fit(X, y)  \n",
    "Perceptron(alpha=0.0001, class_weight=None, early_stopping=False, eta0=1.0,\n",
    "      fit_intercept=True, max_iter=1000, n_iter_no_change=5, n_jobs=None,\n",
    "      penalty=None, random_state=0, shuffle=True, tol=0.001,\n",
    "      validation_fraction=0.1, verbose=0, warm_start=False)\n",
    ">>> clf.score(X, y) \n",
    "0.939...\n",
    "```\n",
    "\n",
    "Let's adapt it in order to use our own dataset, first we will create our own dataset"
   ]
  },
  {
   "cell_type": "markdown",
   "metadata": {},
   "source": [
    "### Creation of our own dataset\n",
    "Remember this is the one we used in the first class\n"
   ]
  },
  {
   "cell_type": "code",
   "execution_count": 81,
   "metadata": {},
   "outputs": [
    {
     "name": "stdout",
     "output_type": "stream",
     "text": [
      "Le training set contient 6 points\n",
      "The point [20, 8] has label 1\n",
      "The point [15, 20] has label 1\n",
      "The point [16, 10] has label 0\n",
      "The point [5, 15] has label 0\n",
      "The point [16, 6] has label 0\n",
      "The point [2, 20] has label 0\n"
     ]
    }
   ],
   "source": [
    "#training_points = [[1,2], [2,1], [2,2], [2,3], [3,2], [6,5], [6,7], [7,6], [8,5], [8,7]]\n",
    "training_points = [[20,8], [15,20], [16,10], [5,15], [16,6], [2,20]]\n",
    "print(\"Le training set contient {} points\".format(len(training_points)));\n",
    "labels = [1,1,0,0,0,0];\n",
    "for index_point in range(0,len(training_points)):\n",
    "    print(\"The point {} has label {}\".format(training_points[index_point], labels[index_point]));"
   ]
  },
  {
   "cell_type": "markdown",
   "metadata": {},
   "source": [
    "### Let's plot it\n",
    "Please remember our template to load and display a dataset with matplotlib. Open your knn or kmeans notebook to find it.\n",
    "```\n",
    "'''\n",
    "In pandas library, there is an attribute that allows us to convert our pandas object into a numpy object\n",
    "This attribute is values\n",
    "'''\n",
    "# We want feature columns so we put 0:2 in order to select column 0 and column 1 (column 2 is target column)\n",
    "X=data.iloc[:,0:2].values #converts our pandas dataframe into a numpy object\n",
    "\n",
    "# Let's store the column target into y variable (remember that \"last\" in python means -1 in term of index)\n",
    "y=data.iloc[:,-1].values #again we convert it into numpy object\n",
    "\n",
    "# Now focus on target, how are the target values\n",
    "'''\n",
    "Let's check what are the differents values in target variable with unique(...) function from numpy library \n",
    "'''\n",
    "print(numpy.unique(y)) # prints [-1  1] so no need conversion\n",
    "\n",
    "# visualizing data\n",
    "colors = numpy.array([x for x in \"bgrcmyk\"]) \n",
    "print(X.shape) #prints (5300, 2) that means X contains 5300 rows and 2 feature columns\n",
    "# 2 features means that available indexes are 0,1 for scatter function\n",
    "plt.scatter(X[:, 0], X[:, 1], color=colors[list(y)].tolist(), s=10) \n",
    "plt.show(); #https://github.com/jupyter/notebook/issues/3523\n",
    "```"
   ]
  },
  {
   "cell_type": "markdown",
   "metadata": {},
   "source": [
    "You have to adapt it. Here we created our own dataset so no need to load some dataset with pandas library.\n",
    "Here our dataset is a list and not a pandas object, so we can't use the function *iloc[...]* and *.values(...)* which are inside the pandas package. Remember that the purpose of this function is to convert pandas to numpy array object. So here we need to convert a list into a numpy array object. We do it with the *array(...)* function from numpy library. Use it like this : \n",
    "```\n",
    "import numpy as np\n",
    "X = np.array(training_points)\n",
    "y = np.array(labels)\n",
    "```\n",
    "Now plot your data"
   ]
  },
  {
   "cell_type": "code",
   "execution_count": 82,
   "metadata": {},
   "outputs": [
    {
     "name": "stdout",
     "output_type": "stream",
     "text": [
      "(6, 2)\n",
      "(6,)\n"
     ]
    },
    {
     "data": {
      "image/png": "[encoded data removed]",
      "text/plain": [
       "<Figure size 432x288 with 1 Axes>"
      ]
     },
     "metadata": {
      "needs_background": "light"
     },
     "output_type": "display_data"
    }
   ],
   "source": [
    "import numpy as np\n",
    "import matplotlib.pyplot as plt\n",
    "X = np.array(training_points)\n",
    "y = np.array(labels)\n",
    "print(X.shape)\n",
    "print(y.shape)\n",
    "# visualizing data\n",
    "colors = np.array([x for x in \"brgckym\"]) \n",
    "# 2 features means that available indexes are 0,1 for scatter function\n",
    "plt.scatter(X[:, 0], X[:, 1], color=colors[list(y)].tolist(), s=10) \n",
    "plt.show(); #https://github.com/jupyter/notebook/issues/3523"
   ]
  },
  {
   "cell_type": "markdown",
   "metadata": {},
   "source": [
    "We have a labeled dataset, so we can use perceptron because it is a supervised machine learning algorithm"
   ]
  },
  {
   "cell_type": "markdown",
   "metadata": {},
   "source": [
    "## Online template example execution without modifications"
   ]
  },
  {
   "cell_type": "code",
   "execution_count": 14,
   "metadata": {},
   "outputs": [
    {
     "name": "stdout",
     "output_type": "stream",
     "text": [
      "[[  0.   0.   5. ...,   0.   0.   0.]\n",
      " [  0.   0.   0. ...,  10.   0.   0.]\n",
      " [  0.   0.   0. ...,  16.   9.   0.]\n",
      " ..., \n",
      " [  0.   0.   1. ...,   6.   0.   0.]\n",
      " [  0.   0.   2. ...,  12.   0.   0.]\n",
      " [  0.   0.  10. ...,  12.   1.   0.]]\n",
      "[0 1 2 ..., 8 9 8]\n"
     ]
    },
    {
     "data": {
      "text/plain": [
       "0.9510294936004452"
      ]
     },
     "execution_count": 14,
     "metadata": {},
     "output_type": "execute_result"
    }
   ],
   "source": [
    "from sklearn.datasets import load_digits\n",
    "from sklearn.linear_model import Perceptron\n",
    "X, y = load_digits(return_X_y=True)\n",
    "print(X)\n",
    "print(y)\n",
    "clf = Perceptron(tol=1e-3, random_state=0)\n",
    "clf.fit(X, y)  \n",
    "clf.score(X, y)"
   ]
  },
  {
   "cell_type": "markdown",
   "metadata": {},
   "source": [
    "Line 1 : **useless**, it is a library to load a dataset we already have one\n",
    "\n",
    "Line 2 : **useful**, so we can import the perceptron method\n",
    "\n",
    "Line 3 : **useless**, it imports data, we already have a X and a y\n",
    "\n",
    "Line 4 and 5 : **useless**, just a print\n",
    "\n",
    "Line 6 : **useful**, it is perceptron initialization\n",
    "\n",
    "Line 7 : **useful**, it is the training process\n",
    "\n",
    "Line 8 : **useful**, just to check if training data has been correctly learned"
   ]
  },
  {
   "cell_type": "markdown",
   "metadata": {},
   "source": [
    "## Online template example execution with modifications\n",
    "Be careful, don't forget to execute again the cell where we convert training_points and labels into numpy object stored in X and y variables so that X and y in memory are the good data"
   ]
  },
  {
   "cell_type": "code",
   "execution_count": 105,
   "metadata": {},
   "outputs": [
    {
     "data": {
      "text/plain": [
       "Perceptron(alpha=0.0001, class_weight=None, eta0=1.0, fit_intercept=True,\n",
       "      max_iter=500, n_iter=None, n_jobs=1, penalty=None, random_state=0,\n",
       "      shuffle=True, tol=None, verbose=0, warm_start=False)"
      ]
     },
     "execution_count": 105,
     "metadata": {},
     "output_type": "execute_result"
    }
   ],
   "source": [
    "from sklearn.linear_model import Perceptron\n",
    "clf = Perceptron(max_iter = 500, tol=None)\n",
    "clf"
   ]
  },
  {
   "cell_type": "code",
   "execution_count": 106,
   "metadata": {},
   "outputs": [
    {
     "data": {
      "text/plain": [
       "1.0"
      ]
     },
     "execution_count": 106,
     "metadata": {},
     "output_type": "execute_result"
    }
   ],
   "source": [
    "clf.fit(X, y)  \n",
    "clf.score(X, y)"
   ]
  },
  {
   "cell_type": "code",
   "execution_count": 107,
   "metadata": {},
   "outputs": [
    {
     "data": {
      "text/plain": [
       "array([1, 1, 0, 0, 0, 0])"
      ]
     },
     "execution_count": 107,
     "metadata": {},
     "output_type": "execute_result"
    }
   ],
   "source": [
    "y_pred = clf.predict(X)\n",
    "y_pred"
   ]
  },
  {
   "cell_type": "code",
   "execution_count": 108,
   "metadata": {},
   "outputs": [
    {
     "name": "stdout",
     "output_type": "stream",
     "text": [
      "Accuracy: 1.00\n"
     ]
    }
   ],
   "source": [
    "from sklearn.metrics import accuracy_score\n",
    "print('Accuracy: %.2f' % accuracy_score(y, y_pred))"
   ]
  },
  {
   "cell_type": "markdown",
   "metadata": {},
   "source": [
    "With maximum 50 iterations, perceptron model could learn correctly on training data (accuracy of 1)"
   ]
  },
  {
   "cell_type": "markdown",
   "metadata": {},
   "source": [
    "## Let's predict some new points with our trained perceptron\n",
    "First, create the test points"
   ]
  },
  {
   "cell_type": "code",
   "execution_count": 101,
   "metadata": {},
   "outputs": [
    {
     "name": "stdout",
     "output_type": "stream",
     "text": [
      "We have 3 test points, but we don't know their label\n"
     ]
    }
   ],
   "source": [
    "test_points = [[3,1], [20,20], [1,1]]\n",
    "print(\"We have {} test points, but we don't know their label\".format(len(test_points)))"
   ]
  },
  {
   "cell_type": "markdown",
   "metadata": {},
   "source": [
    "Let's plot those points over the training set. "
   ]
  },
  {
   "cell_type": "code",
   "execution_count": 102,
   "metadata": {},
   "outputs": [
    {
     "data": {
      "image/png": "[encoded data removed]",
      "text/plain": [
       "<Figure size 432x288 with 1 Axes>"
      ]
     },
     "metadata": {
      "needs_background": "light"
     },
     "output_type": "display_data"
    }
   ],
   "source": [
    "import numpy as np\n",
    "import matplotlib.pyplot as plt\n",
    "X_test = np.array(test_points)\n",
    "# 2 features means that available indexes are 0,1 for scatter function\n",
    "plt.scatter(X[:, 0], X[:, 1], color=colors[list(y)].tolist(), s=10) \n",
    "plt.scatter(X_test[:, 0], X_test[:, 1], color=\"m\", s=10) #here we plot test points in magenta color\n",
    "plt.show(); #https://github.com/jupyter/notebook/issues/3523"
   ]
  },
  {
   "cell_type": "markdown",
   "metadata": {},
   "source": [
    "Red points have label 1, blue points have label 0, magenta points are test points.\n",
    "Intuitively, we should guess that magenta points [1,1] and [3,1] seem to be blue points (label 0). Magenta point [20,20] seem to be a red point (label 1).\n",
    "\n",
    "Let's check if perceptron learned well, i.e. that it has the expected behaviour.\n"
   ]
  },
  {
   "cell_type": "code",
   "execution_count": 103,
   "metadata": {},
   "outputs": [
    {
     "name": "stdout",
     "output_type": "stream",
     "text": [
      "Remind that X_test points are : \n",
      "[[ 3  1]\n",
      " [20 20]\n",
      " [ 1  1]]\n",
      "Each row is a point.\n"
     ]
    }
   ],
   "source": [
    "print('Remind that X_test points are : \\n{}'.format(X_test))\n",
    "print('Each row is a point.')"
   ]
  },
  {
   "cell_type": "code",
   "execution_count": 104,
   "metadata": {},
   "outputs": [
    {
     "data": {
      "text/plain": [
       "array([0, 1, 0])"
      ]
     },
     "execution_count": 104,
     "metadata": {},
     "output_type": "execute_result"
    }
   ],
   "source": [
    "y_pred = clf.predict(X_test)\n",
    "y_pred"
   ]
  },
  {
   "cell_type": "markdown",
   "metadata": {},
   "source": [
    "Those are the expected labels, so our perceptron model learned correctly.\n"
   ]
  },
  {
   "cell_type": "code",
   "execution_count": 95,
   "metadata": {},
   "outputs": [
    {
     "data": {
      "text/plain": [
       "array([[ 10.,   3.]])"
      ]
     },
     "execution_count": 95,
     "metadata": {},
     "output_type": "execute_result"
    }
   ],
   "source": [
    "clf.coef_"
   ]
  },
  {
   "cell_type": "code",
   "execution_count": 96,
   "metadata": {},
   "outputs": [
    {
     "data": {
      "text/plain": [
       "array([-193.])"
      ]
     },
     "execution_count": 96,
     "metadata": {},
     "output_type": "execute_result"
    }
   ],
   "source": [
    "clf.intercept_"
   ]
  },
  {
   "cell_type": "code",
   "execution_count": 97,
   "metadata": {
    "collapsed": true
   },
   "outputs": [],
   "source": [
    "import matplotlib.lines as mlines\n",
    "\n",
    "def newline(p1, p2):\n",
    "    ax = plt.gca()\n",
    "    xmin, xmax = ax.get_xbound()\n",
    "\n",
    "    if(p2[0] == p1[0]):\n",
    "        xmin = xmax = p1[0]\n",
    "        ymin, ymax = ax.get_ybound()\n",
    "    else:\n",
    "        ymax = p1[1]+(p2[1]-p1[1])/(p2[0]-p1[0])*(xmax-p1[0])\n",
    "        ymin = p1[1]+(p2[1]-p1[1])/(p2[0]-p1[0])*(xmin-p1[0])\n",
    "\n",
    "    l = mlines.Line2D([xmin,xmax], [ymin,ymax])\n",
    "    ax.add_line(l)\n",
    "    return l"
   ]
  },
  {
   "cell_type": "code",
   "execution_count": 98,
   "metadata": {},
   "outputs": [
    {
     "data": {
      "image/png": "[encoded data removed]",
      "text/plain": [
       "<Figure size 432x288 with 1 Axes>"
      ]
     },
     "metadata": {
      "needs_background": "light"
     },
     "output_type": "display_data"
    }
   ],
   "source": [
    "import numpy as np\n",
    "X_test = np.array(test_points)\n",
    "# 2 features means that available indexes are 0,1 for scatter function\n",
    "plt.scatter(X[:, 0], X[:, 1], color=colors[list(y)].tolist(), s=10) \n",
    "plt.scatter(X_test[:, 0], X_test[:, 1], color=\"m\", s=10) #here we plot test points in magenta color\n",
    "p1 = [0,-(clf.intercept_[0]/clf.coef_[0][1])];\n",
    "p2 = [-(clf.intercept_[0]/clf.coef_[0][0]),0];\n",
    "newline(p1,p2)\n",
    "plt.show(); #https://github.com/jupyter/notebook/issues/3523"
   ]
  },
  {
   "cell_type": "markdown",
   "metadata": {},
   "source": [
    "## Note 1\n",
    "\n",
    "Please note the difference here with knn algorithm.\n",
    "\n",
    "In order to predict the class of a test point (i.e. classify, assign a label, etc.), knn computes as many distances as there are points in the training set. Then it sorts the distances so that smaller distances means nearest neighbour (to find which training points are the nearest neighbour of the test point).\n",
    "\n",
    "Here, perceptron already learned on training set, so it doesn't need it anymore. It has learned the weights of a straight line y = ax + b that separates training points into two classes. So when it predicts a class for a test point, it simply integrates the test point coordinates into the equation y = ax+b (it has learned a and b). If the point is below the line then the label is 1. The label is 0 otherwise.\n",
    "\n",
    "Therefore, imagine the difference between the two methods if there are 1 000 000 points in training set ... With knn, it will compute 1 000 000 distances ... against only one operation y = ax + b with perceptron ...\n",
    "\n",
    "Perceptron will be more efficient in that kind of situation.\n",
    "\n"
   ]
  },
  {
   "cell_type": "markdown",
   "metadata": {},
   "source": [
    "## Note 2 (assignement)\n",
    "\n",
    "So, do we have to let down knn for perceptron ?\n",
    "\n",
    "Answer : not necessarily, it depends acccording to the studied problem.\n",
    "\n",
    "I invite you to use perceptron on banana dataset. And compare the accuracy obtained with the one you computed with knn on banana dataset too ...\n"
   ]
  },
  {
   "cell_type": "code",
   "execution_count": null,
   "metadata": {
    "collapsed": true
   },
   "outputs": [],
   "source": []
  },
  {
   "cell_type": "code",
   "execution_count": null,
   "metadata": {
    "collapsed": true
   },
   "outputs": [],
   "source": []
  },
  {
   "cell_type": "code",
   "execution_count": null,
   "metadata": {
    "collapsed": true
   },
   "outputs": [],
   "source": []
  },
  {
   "cell_type": "code",
   "execution_count": null,
   "metadata": {
    "collapsed": true
   },
   "outputs": [],
   "source": []
  },
  {
   "cell_type": "code",
   "execution_count": null,
   "metadata": {
    "collapsed": true
   },
   "outputs": [],
   "source": []
  },
  {
   "cell_type": "code",
   "execution_count": null,
   "metadata": {
    "collapsed": true
   },
   "outputs": [],
   "source": []
  }
 ],
 "metadata": {
  "kernelspec": {
   "display_name": "Python 3",
   "language": "python",
   "name": "python3"
  },
  "language_info": {
   "codemirror_mode": {
    "name": "ipython",
    "version": 3
   },
   "file_extension": ".py",
   "mimetype": "text/x-python",
   "name": "python",
   "nbconvert_exporter": "python",
   "pygments_lexer": "ipython3",
   "version": "3.7.3"
  }
 },
 "nbformat": 4,
 "nbformat_minor": 2
}
