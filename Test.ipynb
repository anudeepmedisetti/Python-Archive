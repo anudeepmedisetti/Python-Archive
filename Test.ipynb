{
 "cells": [
  {
   "cell_type": "markdown",
   "metadata": {},
   "source": [
    "# Data Science Assignment"
   ]
  },
  {
   "cell_type": "markdown",
   "metadata": {},
   "source": [
    "\n",
    "The dataset is downloded as CSV file"
   ]
  },
  {
   "cell_type": "code",
   "execution_count": 1,
   "metadata": {},
   "outputs": [
    {
     "data": {
      "text/html": [
       "<div>\n",
       "<style scoped>\n",
       "    .dataframe tbody tr th:only-of-type {\n",
       "        vertical-align: middle;\n",
       "    }\n",
       "\n",
       "    .dataframe tbody tr th {\n",
       "        vertical-align: top;\n",
       "    }\n",
       "\n",
       "    .dataframe thead th {\n",
       "        text-align: right;\n",
       "    }\n",
       "</style>\n",
       "<table border=\"1\" class=\"dataframe\">\n",
       "  <thead>\n",
       "    <tr style=\"text-align: right;\">\n",
       "      <th></th>\n",
       "      <th>SUBJECT</th>\n",
       "      <th>Subject</th>\n",
       "      <th>LOCATION</th>\n",
       "      <th>Country</th>\n",
       "      <th>MEASURE</th>\n",
       "      <th>Measure</th>\n",
       "      <th>FREQUENCY</th>\n",
       "      <th>Frequency</th>\n",
       "      <th>TIME</th>\n",
       "      <th>Time</th>\n",
       "      <th>Unit Code</th>\n",
       "      <th>Unit</th>\n",
       "      <th>PowerCode Code</th>\n",
       "      <th>PowerCode</th>\n",
       "      <th>Reference Period Code</th>\n",
       "      <th>Reference Period</th>\n",
       "      <th>Value</th>\n",
       "      <th>Flag Codes</th>\n",
       "      <th>Flags</th>\n",
       "    </tr>\n",
       "  </thead>\n",
       "  <tbody>\n",
       "    <tr>\n",
       "      <td>0</td>\n",
       "      <td>B6BLTT01</td>\n",
       "      <td>Current account, balance</td>\n",
       "      <td>KOR</td>\n",
       "      <td>Korea</td>\n",
       "      <td>CXCU</td>\n",
       "      <td>US-Dollar converted</td>\n",
       "      <td>A</td>\n",
       "      <td>Annual</td>\n",
       "      <td>1990</td>\n",
       "      <td>1990</td>\n",
       "      <td>USD</td>\n",
       "      <td>US Dollar</td>\n",
       "      <td>6</td>\n",
       "      <td>Millions</td>\n",
       "      <td>NaN</td>\n",
       "      <td>NaN</td>\n",
       "      <td>-2804.20</td>\n",
       "      <td>NaN</td>\n",
       "      <td>NaN</td>\n",
       "    </tr>\n",
       "    <tr>\n",
       "      <td>1</td>\n",
       "      <td>B6BLTT01</td>\n",
       "      <td>Current account, balance</td>\n",
       "      <td>KOR</td>\n",
       "      <td>Korea</td>\n",
       "      <td>CXCU</td>\n",
       "      <td>US-Dollar converted</td>\n",
       "      <td>A</td>\n",
       "      <td>Annual</td>\n",
       "      <td>1991</td>\n",
       "      <td>1991</td>\n",
       "      <td>USD</td>\n",
       "      <td>US Dollar</td>\n",
       "      <td>6</td>\n",
       "      <td>Millions</td>\n",
       "      <td>NaN</td>\n",
       "      <td>NaN</td>\n",
       "      <td>-8033.50</td>\n",
       "      <td>NaN</td>\n",
       "      <td>NaN</td>\n",
       "    </tr>\n",
       "    <tr>\n",
       "      <td>2</td>\n",
       "      <td>B6BLTT01</td>\n",
       "      <td>Current account, balance</td>\n",
       "      <td>KOR</td>\n",
       "      <td>Korea</td>\n",
       "      <td>CXCU</td>\n",
       "      <td>US-Dollar converted</td>\n",
       "      <td>A</td>\n",
       "      <td>Annual</td>\n",
       "      <td>1992</td>\n",
       "      <td>1992</td>\n",
       "      <td>USD</td>\n",
       "      <td>US Dollar</td>\n",
       "      <td>6</td>\n",
       "      <td>Millions</td>\n",
       "      <td>NaN</td>\n",
       "      <td>NaN</td>\n",
       "      <td>-2901.20</td>\n",
       "      <td>NaN</td>\n",
       "      <td>NaN</td>\n",
       "    </tr>\n",
       "    <tr>\n",
       "      <td>3</td>\n",
       "      <td>B6BLTT01</td>\n",
       "      <td>Current account, balance</td>\n",
       "      <td>KOR</td>\n",
       "      <td>Korea</td>\n",
       "      <td>CXCU</td>\n",
       "      <td>US-Dollar converted</td>\n",
       "      <td>A</td>\n",
       "      <td>Annual</td>\n",
       "      <td>1993</td>\n",
       "      <td>1993</td>\n",
       "      <td>USD</td>\n",
       "      <td>US Dollar</td>\n",
       "      <td>6</td>\n",
       "      <td>Millions</td>\n",
       "      <td>NaN</td>\n",
       "      <td>NaN</td>\n",
       "      <td>1688.10</td>\n",
       "      <td>NaN</td>\n",
       "      <td>NaN</td>\n",
       "    </tr>\n",
       "    <tr>\n",
       "      <td>4</td>\n",
       "      <td>B6BLTT01</td>\n",
       "      <td>Current account, balance</td>\n",
       "      <td>KOR</td>\n",
       "      <td>Korea</td>\n",
       "      <td>CXCU</td>\n",
       "      <td>US-Dollar converted</td>\n",
       "      <td>A</td>\n",
       "      <td>Annual</td>\n",
       "      <td>1994</td>\n",
       "      <td>1994</td>\n",
       "      <td>USD</td>\n",
       "      <td>US Dollar</td>\n",
       "      <td>6</td>\n",
       "      <td>Millions</td>\n",
       "      <td>NaN</td>\n",
       "      <td>NaN</td>\n",
       "      <td>-4793.50</td>\n",
       "      <td>NaN</td>\n",
       "      <td>NaN</td>\n",
       "    </tr>\n",
       "    <tr>\n",
       "      <td>...</td>\n",
       "      <td>...</td>\n",
       "      <td>...</td>\n",
       "      <td>...</td>\n",
       "      <td>...</td>\n",
       "      <td>...</td>\n",
       "      <td>...</td>\n",
       "      <td>...</td>\n",
       "      <td>...</td>\n",
       "      <td>...</td>\n",
       "      <td>...</td>\n",
       "      <td>...</td>\n",
       "      <td>...</td>\n",
       "      <td>...</td>\n",
       "      <td>...</td>\n",
       "      <td>...</td>\n",
       "      <td>...</td>\n",
       "      <td>...</td>\n",
       "      <td>...</td>\n",
       "      <td>...</td>\n",
       "    </tr>\n",
       "    <tr>\n",
       "      <td>86776</td>\n",
       "      <td>B6FAOI01</td>\n",
       "      <td>Other investment, net</td>\n",
       "      <td>EU27_2020</td>\n",
       "      <td>European Union – 27 countries (from 01/02/2020)</td>\n",
       "      <td>CXCU</td>\n",
       "      <td>US-Dollar converted</td>\n",
       "      <td>A</td>\n",
       "      <td>Annual</td>\n",
       "      <td>2016</td>\n",
       "      <td>2016</td>\n",
       "      <td>USD</td>\n",
       "      <td>US Dollar</td>\n",
       "      <td>6</td>\n",
       "      <td>Millions</td>\n",
       "      <td>NaN</td>\n",
       "      <td>NaN</td>\n",
       "      <td>-322777.50</td>\n",
       "      <td>NaN</td>\n",
       "      <td>NaN</td>\n",
       "    </tr>\n",
       "    <tr>\n",
       "      <td>86777</td>\n",
       "      <td>B6FAOI01</td>\n",
       "      <td>Other investment, net</td>\n",
       "      <td>EU27_2020</td>\n",
       "      <td>European Union – 27 countries (from 01/02/2020)</td>\n",
       "      <td>CXCU</td>\n",
       "      <td>US-Dollar converted</td>\n",
       "      <td>A</td>\n",
       "      <td>Annual</td>\n",
       "      <td>2017</td>\n",
       "      <td>2017</td>\n",
       "      <td>USD</td>\n",
       "      <td>US Dollar</td>\n",
       "      <td>6</td>\n",
       "      <td>Millions</td>\n",
       "      <td>NaN</td>\n",
       "      <td>NaN</td>\n",
       "      <td>48737.18</td>\n",
       "      <td>NaN</td>\n",
       "      <td>NaN</td>\n",
       "    </tr>\n",
       "    <tr>\n",
       "      <td>86778</td>\n",
       "      <td>B6FAOI01</td>\n",
       "      <td>Other investment, net</td>\n",
       "      <td>EU27_2020</td>\n",
       "      <td>European Union – 27 countries (from 01/02/2020)</td>\n",
       "      <td>CXCU</td>\n",
       "      <td>US-Dollar converted</td>\n",
       "      <td>A</td>\n",
       "      <td>Annual</td>\n",
       "      <td>2018</td>\n",
       "      <td>2018</td>\n",
       "      <td>USD</td>\n",
       "      <td>US Dollar</td>\n",
       "      <td>6</td>\n",
       "      <td>Millions</td>\n",
       "      <td>NaN</td>\n",
       "      <td>NaN</td>\n",
       "      <td>-108993.40</td>\n",
       "      <td>NaN</td>\n",
       "      <td>NaN</td>\n",
       "    </tr>\n",
       "    <tr>\n",
       "      <td>86779</td>\n",
       "      <td>B6FARA01</td>\n",
       "      <td>Reserve assets, net acquisition of financial a...</td>\n",
       "      <td>EU27_2020</td>\n",
       "      <td>European Union – 27 countries (from 01/02/2020)</td>\n",
       "      <td>CXCU</td>\n",
       "      <td>US-Dollar converted</td>\n",
       "      <td>A</td>\n",
       "      <td>Annual</td>\n",
       "      <td>2017</td>\n",
       "      <td>2017</td>\n",
       "      <td>USD</td>\n",
       "      <td>US Dollar</td>\n",
       "      <td>6</td>\n",
       "      <td>Millions</td>\n",
       "      <td>NaN</td>\n",
       "      <td>NaN</td>\n",
       "      <td>35473.39</td>\n",
       "      <td>NaN</td>\n",
       "      <td>NaN</td>\n",
       "    </tr>\n",
       "    <tr>\n",
       "      <td>86780</td>\n",
       "      <td>B6FARA01</td>\n",
       "      <td>Reserve assets, net acquisition of financial a...</td>\n",
       "      <td>EU27_2020</td>\n",
       "      <td>European Union – 27 countries (from 01/02/2020)</td>\n",
       "      <td>CXCU</td>\n",
       "      <td>US-Dollar converted</td>\n",
       "      <td>A</td>\n",
       "      <td>Annual</td>\n",
       "      <td>2018</td>\n",
       "      <td>2018</td>\n",
       "      <td>USD</td>\n",
       "      <td>US Dollar</td>\n",
       "      <td>6</td>\n",
       "      <td>Millions</td>\n",
       "      <td>NaN</td>\n",
       "      <td>NaN</td>\n",
       "      <td>40996.34</td>\n",
       "      <td>NaN</td>\n",
       "      <td>NaN</td>\n",
       "    </tr>\n",
       "  </tbody>\n",
       "</table>\n",
       "<p>86781 rows × 19 columns</p>\n",
       "</div>"
      ],
      "text/plain": [
       "        SUBJECT                                            Subject   LOCATION  \\\n",
       "0      B6BLTT01                           Current account, balance        KOR   \n",
       "1      B6BLTT01                           Current account, balance        KOR   \n",
       "2      B6BLTT01                           Current account, balance        KOR   \n",
       "3      B6BLTT01                           Current account, balance        KOR   \n",
       "4      B6BLTT01                           Current account, balance        KOR   \n",
       "...         ...                                                ...        ...   \n",
       "86776  B6FAOI01                              Other investment, net  EU27_2020   \n",
       "86777  B6FAOI01                              Other investment, net  EU27_2020   \n",
       "86778  B6FAOI01                              Other investment, net  EU27_2020   \n",
       "86779  B6FARA01  Reserve assets, net acquisition of financial a...  EU27_2020   \n",
       "86780  B6FARA01  Reserve assets, net acquisition of financial a...  EU27_2020   \n",
       "\n",
       "                                               Country MEASURE  \\\n",
       "0                                                Korea    CXCU   \n",
       "1                                                Korea    CXCU   \n",
       "2                                                Korea    CXCU   \n",
       "3                                                Korea    CXCU   \n",
       "4                                                Korea    CXCU   \n",
       "...                                                ...     ...   \n",
       "86776  European Union – 27 countries (from 01/02/2020)    CXCU   \n",
       "86777  European Union – 27 countries (from 01/02/2020)    CXCU   \n",
       "86778  European Union – 27 countries (from 01/02/2020)    CXCU   \n",
       "86779  European Union – 27 countries (from 01/02/2020)    CXCU   \n",
       "86780  European Union – 27 countries (from 01/02/2020)    CXCU   \n",
       "\n",
       "                   Measure FREQUENCY Frequency  TIME  Time Unit Code  \\\n",
       "0      US-Dollar converted         A    Annual  1990  1990       USD   \n",
       "1      US-Dollar converted         A    Annual  1991  1991       USD   \n",
       "2      US-Dollar converted         A    Annual  1992  1992       USD   \n",
       "3      US-Dollar converted         A    Annual  1993  1993       USD   \n",
       "4      US-Dollar converted         A    Annual  1994  1994       USD   \n",
       "...                    ...       ...       ...   ...   ...       ...   \n",
       "86776  US-Dollar converted         A    Annual  2016  2016       USD   \n",
       "86777  US-Dollar converted         A    Annual  2017  2017       USD   \n",
       "86778  US-Dollar converted         A    Annual  2018  2018       USD   \n",
       "86779  US-Dollar converted         A    Annual  2017  2017       USD   \n",
       "86780  US-Dollar converted         A    Annual  2018  2018       USD   \n",
       "\n",
       "            Unit  PowerCode Code PowerCode  Reference Period Code  \\\n",
       "0      US Dollar               6  Millions                    NaN   \n",
       "1      US Dollar               6  Millions                    NaN   \n",
       "2      US Dollar               6  Millions                    NaN   \n",
       "3      US Dollar               6  Millions                    NaN   \n",
       "4      US Dollar               6  Millions                    NaN   \n",
       "...          ...             ...       ...                    ...   \n",
       "86776  US Dollar               6  Millions                    NaN   \n",
       "86777  US Dollar               6  Millions                    NaN   \n",
       "86778  US Dollar               6  Millions                    NaN   \n",
       "86779  US Dollar               6  Millions                    NaN   \n",
       "86780  US Dollar               6  Millions                    NaN   \n",
       "\n",
       "       Reference Period      Value Flag Codes Flags  \n",
       "0                   NaN   -2804.20        NaN   NaN  \n",
       "1                   NaN   -8033.50        NaN   NaN  \n",
       "2                   NaN   -2901.20        NaN   NaN  \n",
       "3                   NaN    1688.10        NaN   NaN  \n",
       "4                   NaN   -4793.50        NaN   NaN  \n",
       "...                 ...        ...        ...   ...  \n",
       "86776               NaN -322777.50        NaN   NaN  \n",
       "86777               NaN   48737.18        NaN   NaN  \n",
       "86778               NaN -108993.40        NaN   NaN  \n",
       "86779               NaN   35473.39        NaN   NaN  \n",
       "86780               NaN   40996.34        NaN   NaN  \n",
       "\n",
       "[86781 rows x 19 columns]"
      ]
     },
     "execution_count": 1,
     "metadata": {},
     "output_type": "execute_result"
    }
   ],
   "source": [
    "#reading the data using pandas and numpy library\n",
    "\n",
    "import pandas as pd\n",
    "import numpy as np\n",
    "df=pd.read_csv(\"MEI_BOP6_29052020012141029.csv\")\n",
    "df"
   ]
  },
  {
   "cell_type": "markdown",
   "metadata": {},
   "source": [
    "The data contains 86721 rows and 19 columns"
   ]
  },
  {
   "cell_type": "code",
   "execution_count": 2,
   "metadata": {},
   "outputs": [
    {
     "data": {
      "text/html": [
       "<div>\n",
       "<style scoped>\n",
       "    .dataframe tbody tr th:only-of-type {\n",
       "        vertical-align: middle;\n",
       "    }\n",
       "\n",
       "    .dataframe tbody tr th {\n",
       "        vertical-align: top;\n",
       "    }\n",
       "\n",
       "    .dataframe thead th {\n",
       "        text-align: right;\n",
       "    }\n",
       "</style>\n",
       "<table border=\"1\" class=\"dataframe\">\n",
       "  <thead>\n",
       "    <tr style=\"text-align: right;\">\n",
       "      <th></th>\n",
       "      <th>SUBJECT</th>\n",
       "      <th>Subject</th>\n",
       "      <th>LOCATION</th>\n",
       "      <th>Country</th>\n",
       "      <th>MEASURE</th>\n",
       "      <th>Measure</th>\n",
       "      <th>FREQUENCY</th>\n",
       "      <th>Frequency</th>\n",
       "      <th>TIME</th>\n",
       "      <th>Time</th>\n",
       "      <th>Unit Code</th>\n",
       "      <th>Unit</th>\n",
       "      <th>PowerCode Code</th>\n",
       "      <th>PowerCode</th>\n",
       "      <th>Reference Period Code</th>\n",
       "      <th>Reference Period</th>\n",
       "      <th>Value</th>\n",
       "      <th>Flag Codes</th>\n",
       "      <th>Flags</th>\n",
       "    </tr>\n",
       "  </thead>\n",
       "  <tbody>\n",
       "    <tr>\n",
       "      <td>0</td>\n",
       "      <td>B6BLTT01</td>\n",
       "      <td>Current account, balance</td>\n",
       "      <td>KOR</td>\n",
       "      <td>Korea</td>\n",
       "      <td>CXCU</td>\n",
       "      <td>US-Dollar converted</td>\n",
       "      <td>A</td>\n",
       "      <td>Annual</td>\n",
       "      <td>1990</td>\n",
       "      <td>1990</td>\n",
       "      <td>USD</td>\n",
       "      <td>US Dollar</td>\n",
       "      <td>6</td>\n",
       "      <td>Millions</td>\n",
       "      <td>NaN</td>\n",
       "      <td>NaN</td>\n",
       "      <td>-2804.2</td>\n",
       "      <td>NaN</td>\n",
       "      <td>NaN</td>\n",
       "    </tr>\n",
       "    <tr>\n",
       "      <td>1</td>\n",
       "      <td>B6BLTT01</td>\n",
       "      <td>Current account, balance</td>\n",
       "      <td>KOR</td>\n",
       "      <td>Korea</td>\n",
       "      <td>CXCU</td>\n",
       "      <td>US-Dollar converted</td>\n",
       "      <td>A</td>\n",
       "      <td>Annual</td>\n",
       "      <td>1991</td>\n",
       "      <td>1991</td>\n",
       "      <td>USD</td>\n",
       "      <td>US Dollar</td>\n",
       "      <td>6</td>\n",
       "      <td>Millions</td>\n",
       "      <td>NaN</td>\n",
       "      <td>NaN</td>\n",
       "      <td>-8033.5</td>\n",
       "      <td>NaN</td>\n",
       "      <td>NaN</td>\n",
       "    </tr>\n",
       "    <tr>\n",
       "      <td>2</td>\n",
       "      <td>B6BLTT01</td>\n",
       "      <td>Current account, balance</td>\n",
       "      <td>KOR</td>\n",
       "      <td>Korea</td>\n",
       "      <td>CXCU</td>\n",
       "      <td>US-Dollar converted</td>\n",
       "      <td>A</td>\n",
       "      <td>Annual</td>\n",
       "      <td>1992</td>\n",
       "      <td>1992</td>\n",
       "      <td>USD</td>\n",
       "      <td>US Dollar</td>\n",
       "      <td>6</td>\n",
       "      <td>Millions</td>\n",
       "      <td>NaN</td>\n",
       "      <td>NaN</td>\n",
       "      <td>-2901.2</td>\n",
       "      <td>NaN</td>\n",
       "      <td>NaN</td>\n",
       "    </tr>\n",
       "    <tr>\n",
       "      <td>3</td>\n",
       "      <td>B6BLTT01</td>\n",
       "      <td>Current account, balance</td>\n",
       "      <td>KOR</td>\n",
       "      <td>Korea</td>\n",
       "      <td>CXCU</td>\n",
       "      <td>US-Dollar converted</td>\n",
       "      <td>A</td>\n",
       "      <td>Annual</td>\n",
       "      <td>1993</td>\n",
       "      <td>1993</td>\n",
       "      <td>USD</td>\n",
       "      <td>US Dollar</td>\n",
       "      <td>6</td>\n",
       "      <td>Millions</td>\n",
       "      <td>NaN</td>\n",
       "      <td>NaN</td>\n",
       "      <td>1688.1</td>\n",
       "      <td>NaN</td>\n",
       "      <td>NaN</td>\n",
       "    </tr>\n",
       "    <tr>\n",
       "      <td>4</td>\n",
       "      <td>B6BLTT01</td>\n",
       "      <td>Current account, balance</td>\n",
       "      <td>KOR</td>\n",
       "      <td>Korea</td>\n",
       "      <td>CXCU</td>\n",
       "      <td>US-Dollar converted</td>\n",
       "      <td>A</td>\n",
       "      <td>Annual</td>\n",
       "      <td>1994</td>\n",
       "      <td>1994</td>\n",
       "      <td>USD</td>\n",
       "      <td>US Dollar</td>\n",
       "      <td>6</td>\n",
       "      <td>Millions</td>\n",
       "      <td>NaN</td>\n",
       "      <td>NaN</td>\n",
       "      <td>-4793.5</td>\n",
       "      <td>NaN</td>\n",
       "      <td>NaN</td>\n",
       "    </tr>\n",
       "  </tbody>\n",
       "</table>\n",
       "</div>"
      ],
      "text/plain": [
       "    SUBJECT                   Subject LOCATION Country MEASURE  \\\n",
       "0  B6BLTT01  Current account, balance      KOR   Korea    CXCU   \n",
       "1  B6BLTT01  Current account, balance      KOR   Korea    CXCU   \n",
       "2  B6BLTT01  Current account, balance      KOR   Korea    CXCU   \n",
       "3  B6BLTT01  Current account, balance      KOR   Korea    CXCU   \n",
       "4  B6BLTT01  Current account, balance      KOR   Korea    CXCU   \n",
       "\n",
       "               Measure FREQUENCY Frequency  TIME  Time Unit Code       Unit  \\\n",
       "0  US-Dollar converted         A    Annual  1990  1990       USD  US Dollar   \n",
       "1  US-Dollar converted         A    Annual  1991  1991       USD  US Dollar   \n",
       "2  US-Dollar converted         A    Annual  1992  1992       USD  US Dollar   \n",
       "3  US-Dollar converted         A    Annual  1993  1993       USD  US Dollar   \n",
       "4  US-Dollar converted         A    Annual  1994  1994       USD  US Dollar   \n",
       "\n",
       "   PowerCode Code PowerCode  Reference Period Code  Reference Period   Value  \\\n",
       "0               6  Millions                    NaN               NaN -2804.2   \n",
       "1               6  Millions                    NaN               NaN -8033.5   \n",
       "2               6  Millions                    NaN               NaN -2901.2   \n",
       "3               6  Millions                    NaN               NaN  1688.1   \n",
       "4               6  Millions                    NaN               NaN -4793.5   \n",
       "\n",
       "  Flag Codes Flags  \n",
       "0        NaN   NaN  \n",
       "1        NaN   NaN  \n",
       "2        NaN   NaN  \n",
       "3        NaN   NaN  \n",
       "4        NaN   NaN  "
      ]
     },
     "execution_count": 2,
     "metadata": {},
     "output_type": "execute_result"
    }
   ],
   "source": [
    "#viewing the head of the data\n",
    "df.head()"
   ]
  },
  {
   "cell_type": "code",
   "execution_count": 3,
   "metadata": {},
   "outputs": [
    {
     "data": {
      "text/plain": [
       "array([['B6BLTT01', 'Current account, balance', 'KOR', ..., -2804.2, nan,\n",
       "        nan],\n",
       "       ['B6BLTT01', 'Current account, balance', 'KOR', ..., -8033.5, nan,\n",
       "        nan],\n",
       "       ['B6BLTT01', 'Current account, balance', 'KOR', ..., -2901.2, nan,\n",
       "        nan],\n",
       "       ...,\n",
       "       ['B6FAOI01', 'Other investment, net', 'EU27_2020', ..., -108993.4,\n",
       "        nan, nan],\n",
       "       ['B6FARA01',\n",
       "        'Reserve assets, net acquisition of financial assets',\n",
       "        'EU27_2020', ..., 35473.39, nan, nan],\n",
       "       ['B6FARA01',\n",
       "        'Reserve assets, net acquisition of financial assets',\n",
       "        'EU27_2020', ..., 40996.34, nan, nan]], dtype=object)"
      ]
     },
     "execution_count": 3,
     "metadata": {},
     "output_type": "execute_result"
    }
   ],
   "source": [
    "df.values"
   ]
  },
  {
   "cell_type": "markdown",
   "metadata": {},
   "source": [
    "# Data pre-processing\n",
    "each column is repeated two times(codeword and names).\n",
    "so,one of the two colums is removed."
   ]
  },
  {
   "cell_type": "code",
   "execution_count": 4,
   "metadata": {},
   "outputs": [
    {
     "data": {
      "text/plain": [
       "Index(['SUBJECT', 'Subject', 'LOCATION', 'Country', 'MEASURE', 'Measure',\n",
       "       'FREQUENCY', 'Frequency', 'TIME', 'Time', 'Unit Code', 'Unit',\n",
       "       'PowerCode Code', 'PowerCode', 'Reference Period Code',\n",
       "       'Reference Period', 'Value', 'Flag Codes', 'Flags'],\n",
       "      dtype='object')"
      ]
     },
     "execution_count": 4,
     "metadata": {},
     "output_type": "execute_result"
    }
   ],
   "source": [
    "df.columns"
   ]
  },
  {
   "cell_type": "code",
   "execution_count": 181,
   "metadata": {},
   "outputs": [],
   "source": [
    "cdf=df[['Country','Subject' , 'Measure',\n",
    "        'Frequency', 'Time', 'Unit Code',\n",
    "       'PowerCode Code', 'Reference Period Code', 'Value', 'Flag Codes']]\n",
    "\n",
    "cdf.set_index(\"Country\", inplace=True)"
   ]
  },
  {
   "cell_type": "code",
   "execution_count": 173,
   "metadata": {},
   "outputs": [
    {
     "data": {
      "text/html": [
       "<div>\n",
       "<style scoped>\n",
       "    .dataframe tbody tr th:only-of-type {\n",
       "        vertical-align: middle;\n",
       "    }\n",
       "\n",
       "    .dataframe tbody tr th {\n",
       "        vertical-align: top;\n",
       "    }\n",
       "\n",
       "    .dataframe thead th {\n",
       "        text-align: right;\n",
       "    }\n",
       "</style>\n",
       "<table border=\"1\" class=\"dataframe\">\n",
       "  <thead>\n",
       "    <tr style=\"text-align: right;\">\n",
       "      <th></th>\n",
       "      <th>Subject</th>\n",
       "      <th>Measure</th>\n",
       "      <th>Frequency</th>\n",
       "      <th>Time</th>\n",
       "      <th>Unit Code</th>\n",
       "      <th>PowerCode Code</th>\n",
       "      <th>Reference Period Code</th>\n",
       "      <th>Value</th>\n",
       "      <th>Flag Codes</th>\n",
       "    </tr>\n",
       "    <tr>\n",
       "      <th>Country</th>\n",
       "      <th></th>\n",
       "      <th></th>\n",
       "      <th></th>\n",
       "      <th></th>\n",
       "      <th></th>\n",
       "      <th></th>\n",
       "      <th></th>\n",
       "      <th></th>\n",
       "      <th></th>\n",
       "    </tr>\n",
       "  </thead>\n",
       "  <tbody>\n",
       "    <tr>\n",
       "      <td>Korea</td>\n",
       "      <td>Current account, balance</td>\n",
       "      <td>US-Dollar converted</td>\n",
       "      <td>Annual</td>\n",
       "      <td>1990</td>\n",
       "      <td>USD</td>\n",
       "      <td>6</td>\n",
       "      <td>NaN</td>\n",
       "      <td>-2804.2</td>\n",
       "      <td>NaN</td>\n",
       "    </tr>\n",
       "    <tr>\n",
       "      <td>Korea</td>\n",
       "      <td>Current account, balance</td>\n",
       "      <td>US-Dollar converted</td>\n",
       "      <td>Annual</td>\n",
       "      <td>1991</td>\n",
       "      <td>USD</td>\n",
       "      <td>6</td>\n",
       "      <td>NaN</td>\n",
       "      <td>-8033.5</td>\n",
       "      <td>NaN</td>\n",
       "    </tr>\n",
       "    <tr>\n",
       "      <td>Korea</td>\n",
       "      <td>Current account, balance</td>\n",
       "      <td>US-Dollar converted</td>\n",
       "      <td>Annual</td>\n",
       "      <td>1992</td>\n",
       "      <td>USD</td>\n",
       "      <td>6</td>\n",
       "      <td>NaN</td>\n",
       "      <td>-2901.2</td>\n",
       "      <td>NaN</td>\n",
       "    </tr>\n",
       "    <tr>\n",
       "      <td>Korea</td>\n",
       "      <td>Current account, balance</td>\n",
       "      <td>US-Dollar converted</td>\n",
       "      <td>Annual</td>\n",
       "      <td>1993</td>\n",
       "      <td>USD</td>\n",
       "      <td>6</td>\n",
       "      <td>NaN</td>\n",
       "      <td>1688.1</td>\n",
       "      <td>NaN</td>\n",
       "    </tr>\n",
       "    <tr>\n",
       "      <td>Korea</td>\n",
       "      <td>Current account, balance</td>\n",
       "      <td>US-Dollar converted</td>\n",
       "      <td>Annual</td>\n",
       "      <td>1994</td>\n",
       "      <td>USD</td>\n",
       "      <td>6</td>\n",
       "      <td>NaN</td>\n",
       "      <td>-4793.5</td>\n",
       "      <td>NaN</td>\n",
       "    </tr>\n",
       "  </tbody>\n",
       "</table>\n",
       "</div>"
      ],
      "text/plain": [
       "                          Subject              Measure Frequency  Time  \\\n",
       "Country                                                                  \n",
       "Korea    Current account, balance  US-Dollar converted    Annual  1990   \n",
       "Korea    Current account, balance  US-Dollar converted    Annual  1991   \n",
       "Korea    Current account, balance  US-Dollar converted    Annual  1992   \n",
       "Korea    Current account, balance  US-Dollar converted    Annual  1993   \n",
       "Korea    Current account, balance  US-Dollar converted    Annual  1994   \n",
       "\n",
       "        Unit Code  PowerCode Code  Reference Period Code   Value Flag Codes  \n",
       "Country                                                                      \n",
       "Korea         USD               6                    NaN -2804.2        NaN  \n",
       "Korea         USD               6                    NaN -8033.5        NaN  \n",
       "Korea         USD               6                    NaN -2901.2        NaN  \n",
       "Korea         USD               6                    NaN  1688.1        NaN  \n",
       "Korea         USD               6                    NaN -4793.5        NaN  "
      ]
     },
     "execution_count": 173,
     "metadata": {},
     "output_type": "execute_result"
    }
   ],
   "source": [
    "cdf.head()"
   ]
  },
  {
   "cell_type": "code",
   "execution_count": 174,
   "metadata": {},
   "outputs": [
    {
     "data": {
      "text/plain": [
       "array([['Current account, balance', 'US-Dollar converted', 'Annual', ...,\n",
       "        nan, -2804.2, nan],\n",
       "       ['Current account, balance', 'US-Dollar converted', 'Annual', ...,\n",
       "        nan, -8033.5, nan],\n",
       "       ['Current account, balance', 'US-Dollar converted', 'Annual', ...,\n",
       "        nan, -2901.2, nan],\n",
       "       ...,\n",
       "       ['Other investment, net', 'US-Dollar converted', 'Annual', ...,\n",
       "        nan, -108993.4, nan],\n",
       "       ['Reserve assets, net acquisition of financial assets',\n",
       "        'US-Dollar converted', 'Annual', ..., nan, 35473.39, nan],\n",
       "       ['Reserve assets, net acquisition of financial assets',\n",
       "        'US-Dollar converted', 'Annual', ..., nan, 40996.34, nan]],\n",
       "      dtype=object)"
      ]
     },
     "execution_count": 174,
     "metadata": {},
     "output_type": "execute_result"
    }
   ],
   "source": [
    "cdf.values"
   ]
  },
  {
   "cell_type": "markdown",
   "metadata": {},
   "source": [
    "# Checking for missing values"
   ]
  },
  {
   "cell_type": "code",
   "execution_count": 175,
   "metadata": {},
   "outputs": [
    {
     "name": "stdout",
     "output_type": "stream",
     "text": [
      "True\n"
     ]
    }
   ],
   "source": [
    "print(cdf.isnull().values.any())"
   ]
  },
  {
   "cell_type": "markdown",
   "metadata": {},
   "source": [
    "There are missing values. Let us count the missing values."
   ]
  },
  {
   "cell_type": "code",
   "execution_count": 176,
   "metadata": {},
   "outputs": [
    {
     "name": "stdout",
     "output_type": "stream",
     "text": [
      "Subject                      0\n",
      "Measure                      0\n",
      "Frequency                    0\n",
      "Time                         0\n",
      "Unit Code                    0\n",
      "PowerCode Code               0\n",
      "Reference Period Code    86781\n",
      "Value                        0\n",
      "Flag Codes               86408\n",
      "dtype: int64\n"
     ]
    }
   ],
   "source": [
    "print(cdf.isnull().sum())"
   ]
  },
  {
   "cell_type": "markdown",
   "metadata": {},
   "source": [
    "There are missing values in Reference Period Code and Flag Codes"
   ]
  },
  {
   "cell_type": "code",
   "execution_count": 177,
   "metadata": {},
   "outputs": [
    {
     "data": {
      "text/plain": [
       "count     373\n",
       "unique      2\n",
       "top         B\n",
       "freq      335\n",
       "Name: Flag Codes, dtype: object"
      ]
     },
     "execution_count": 177,
     "metadata": {},
     "output_type": "execute_result"
    }
   ],
   "source": [
    "cdf.loc[:,'Flag Codes'].describe()"
   ]
  },
  {
   "cell_type": "code",
   "execution_count": 178,
   "metadata": {},
   "outputs": [
    {
     "data": {
      "text/plain": [
       "count    0.0\n",
       "mean     NaN\n",
       "std      NaN\n",
       "min      NaN\n",
       "25%      NaN\n",
       "50%      NaN\n",
       "75%      NaN\n",
       "max      NaN\n",
       "Name: Reference Period Code, dtype: float64"
      ]
     },
     "execution_count": 178,
     "metadata": {},
     "output_type": "execute_result"
    }
   ],
   "source": [
    "cdf.loc[:,'Reference Period Code'].describe()"
   ]
  },
  {
   "cell_type": "markdown",
   "metadata": {},
   "source": [
    "we can see that Reference Period Code and Flag Codes have all null values so we can discard them"
   ]
  },
  {
   "cell_type": "code",
   "execution_count": 182,
   "metadata": {},
   "outputs": [],
   "source": [
    "cdf=cdf.drop(['Reference Period Code', 'Flag Codes'], axis=1)"
   ]
  },
  {
   "cell_type": "code",
   "execution_count": 183,
   "metadata": {},
   "outputs": [
    {
     "data": {
      "text/html": [
       "<div>\n",
       "<style scoped>\n",
       "    .dataframe tbody tr th:only-of-type {\n",
       "        vertical-align: middle;\n",
       "    }\n",
       "\n",
       "    .dataframe tbody tr th {\n",
       "        vertical-align: top;\n",
       "    }\n",
       "\n",
       "    .dataframe thead th {\n",
       "        text-align: right;\n",
       "    }\n",
       "</style>\n",
       "<table border=\"1\" class=\"dataframe\">\n",
       "  <thead>\n",
       "    <tr style=\"text-align: right;\">\n",
       "      <th></th>\n",
       "      <th>Subject</th>\n",
       "      <th>Measure</th>\n",
       "      <th>Frequency</th>\n",
       "      <th>Time</th>\n",
       "      <th>Unit Code</th>\n",
       "      <th>PowerCode Code</th>\n",
       "      <th>Value</th>\n",
       "    </tr>\n",
       "    <tr>\n",
       "      <th>Country</th>\n",
       "      <th></th>\n",
       "      <th></th>\n",
       "      <th></th>\n",
       "      <th></th>\n",
       "      <th></th>\n",
       "      <th></th>\n",
       "      <th></th>\n",
       "    </tr>\n",
       "  </thead>\n",
       "  <tbody>\n",
       "    <tr>\n",
       "      <td>Korea</td>\n",
       "      <td>Current account, balance</td>\n",
       "      <td>US-Dollar converted</td>\n",
       "      <td>Annual</td>\n",
       "      <td>1990</td>\n",
       "      <td>USD</td>\n",
       "      <td>6</td>\n",
       "      <td>-2804.2</td>\n",
       "    </tr>\n",
       "    <tr>\n",
       "      <td>Korea</td>\n",
       "      <td>Current account, balance</td>\n",
       "      <td>US-Dollar converted</td>\n",
       "      <td>Annual</td>\n",
       "      <td>1991</td>\n",
       "      <td>USD</td>\n",
       "      <td>6</td>\n",
       "      <td>-8033.5</td>\n",
       "    </tr>\n",
       "    <tr>\n",
       "      <td>Korea</td>\n",
       "      <td>Current account, balance</td>\n",
       "      <td>US-Dollar converted</td>\n",
       "      <td>Annual</td>\n",
       "      <td>1992</td>\n",
       "      <td>USD</td>\n",
       "      <td>6</td>\n",
       "      <td>-2901.2</td>\n",
       "    </tr>\n",
       "    <tr>\n",
       "      <td>Korea</td>\n",
       "      <td>Current account, balance</td>\n",
       "      <td>US-Dollar converted</td>\n",
       "      <td>Annual</td>\n",
       "      <td>1993</td>\n",
       "      <td>USD</td>\n",
       "      <td>6</td>\n",
       "      <td>1688.1</td>\n",
       "    </tr>\n",
       "    <tr>\n",
       "      <td>Korea</td>\n",
       "      <td>Current account, balance</td>\n",
       "      <td>US-Dollar converted</td>\n",
       "      <td>Annual</td>\n",
       "      <td>1994</td>\n",
       "      <td>USD</td>\n",
       "      <td>6</td>\n",
       "      <td>-4793.5</td>\n",
       "    </tr>\n",
       "  </tbody>\n",
       "</table>\n",
       "</div>"
      ],
      "text/plain": [
       "                          Subject              Measure Frequency  Time  \\\n",
       "Country                                                                  \n",
       "Korea    Current account, balance  US-Dollar converted    Annual  1990   \n",
       "Korea    Current account, balance  US-Dollar converted    Annual  1991   \n",
       "Korea    Current account, balance  US-Dollar converted    Annual  1992   \n",
       "Korea    Current account, balance  US-Dollar converted    Annual  1993   \n",
       "Korea    Current account, balance  US-Dollar converted    Annual  1994   \n",
       "\n",
       "        Unit Code  PowerCode Code   Value  \n",
       "Country                                    \n",
       "Korea         USD               6 -2804.2  \n",
       "Korea         USD               6 -8033.5  \n",
       "Korea         USD               6 -2901.2  \n",
       "Korea         USD               6  1688.1  \n",
       "Korea         USD               6 -4793.5  "
      ]
     },
     "execution_count": 183,
     "metadata": {},
     "output_type": "execute_result"
    }
   ],
   "source": [
    "cdf.head()"
   ]
  },
  {
   "cell_type": "code",
   "execution_count": 184,
   "metadata": {},
   "outputs": [
    {
     "data": {
      "text/plain": [
       "count    8.678100e+04\n",
       "mean     2.500756e+05\n",
       "std      1.613500e+06\n",
       "min     -1.957927e+07\n",
       "25%      6.903572e+00\n",
       "50%      5.783242e+03\n",
       "75%      6.983600e+04\n",
       "max      4.798001e+07\n",
       "Name: Value, dtype: float64"
      ]
     },
     "execution_count": 184,
     "metadata": {},
     "output_type": "execute_result"
    }
   ],
   "source": [
    "cdf['Value'].describe()"
   ]
  },
  {
   "cell_type": "code",
   "execution_count": 188,
   "metadata": {},
   "outputs": [
    {
     "data": {
      "text/plain": [
       "count              86781\n",
       "unique                43\n",
       "top       United Kingdom\n",
       "freq                3372\n",
       "Name: Country, dtype: object"
      ]
     },
     "execution_count": 188,
     "metadata": {},
     "output_type": "execute_result"
    }
   ],
   "source": [
    "df['Country'].describe()"
   ]
  },
  {
   "cell_type": "code",
   "execution_count": 190,
   "metadata": {},
   "outputs": [
    {
     "data": {
      "text/plain": [
       "array(['Korea', 'United States', 'Switzerland', 'New Zealand', 'Estonia',\n",
       "       'Austria', 'Italy', 'Czech Republic', 'Slovak Republic', 'France',\n",
       "       'Portugal', 'United Kingdom', 'Latvia', 'Netherlands', 'Germany',\n",
       "       'Belgium', 'Luxembourg', 'Slovenia', 'Hungary', 'Finland',\n",
       "       'Greece', 'Norway', 'Denmark', 'Spain', 'Poland', 'Turkey',\n",
       "       'Sweden', 'OECD - Total', 'G7', 'Russia', 'Indonesia',\n",
       "       \"China (People's Republic of)\", 'Brazil', 'India', 'Lithuania',\n",
       "       'South Africa', 'Euro area (19 countries)', 'Mexico', 'Costa Rica',\n",
       "       'Saudi Arabia', 'Argentina', 'G20',\n",
       "       'European Union – 27 countries (from 01/02/2020)'], dtype=object)"
      ]
     },
     "execution_count": 190,
     "metadata": {},
     "output_type": "execute_result"
    }
   ],
   "source": [
    "df.Country.unique()"
   ]
  },
  {
   "cell_type": "markdown",
   "metadata": {},
   "source": [
    "We can see that apart from EU there are few more contries lets dicard them"
   ]
  },
  {
   "cell_type": "code",
   "execution_count": 332,
   "metadata": {
    "scrolled": true
   },
   "outputs": [],
   "source": [
    "cdf_europe=cdf.loc[['Switzerland', 'New Zealand', 'Estonia',\n",
    "       'Austria', 'Italy', 'Czech Republic', 'Slovak Republic', 'France',\n",
    "       'Portugal', 'Latvia', 'Netherlands', 'Germany',\n",
    "       'Belgium', 'Luxembourg', 'Slovenia', 'Hungary', 'Finland',\n",
    "       'Greece', 'Norway', 'Denmark', 'Spain', 'Poland', 'Turkey',\n",
    "       'Sweden']]"
   ]
  },
  {
   "cell_type": "code",
   "execution_count": 333,
   "metadata": {},
   "outputs": [
    {
     "data": {
      "text/html": [
       "<div>\n",
       "<style scoped>\n",
       "    .dataframe tbody tr th:only-of-type {\n",
       "        vertical-align: middle;\n",
       "    }\n",
       "\n",
       "    .dataframe tbody tr th {\n",
       "        vertical-align: top;\n",
       "    }\n",
       "\n",
       "    .dataframe thead th {\n",
       "        text-align: right;\n",
       "    }\n",
       "</style>\n",
       "<table border=\"1\" class=\"dataframe\">\n",
       "  <thead>\n",
       "    <tr style=\"text-align: right;\">\n",
       "      <th></th>\n",
       "      <th>Subject</th>\n",
       "      <th>Measure</th>\n",
       "      <th>Frequency</th>\n",
       "      <th>Time</th>\n",
       "      <th>Unit Code</th>\n",
       "      <th>PowerCode Code</th>\n",
       "      <th>Value</th>\n",
       "    </tr>\n",
       "    <tr>\n",
       "      <th>Country</th>\n",
       "      <th></th>\n",
       "      <th></th>\n",
       "      <th></th>\n",
       "      <th></th>\n",
       "      <th></th>\n",
       "      <th></th>\n",
       "      <th></th>\n",
       "    </tr>\n",
       "  </thead>\n",
       "  <tbody>\n",
       "    <tr>\n",
       "      <td>Switzerland</td>\n",
       "      <td>Secondary income, balance</td>\n",
       "      <td>National Currency, Seasonally adjusted</td>\n",
       "      <td>Annual</td>\n",
       "      <td>2000</td>\n",
       "      <td>CHF</td>\n",
       "      <td>6</td>\n",
       "      <td>-4759.916</td>\n",
       "    </tr>\n",
       "    <tr>\n",
       "      <td>Switzerland</td>\n",
       "      <td>Secondary income, balance</td>\n",
       "      <td>National Currency, Seasonally adjusted</td>\n",
       "      <td>Annual</td>\n",
       "      <td>2001</td>\n",
       "      <td>CHF</td>\n",
       "      <td>6</td>\n",
       "      <td>-6653.170</td>\n",
       "    </tr>\n",
       "    <tr>\n",
       "      <td>Switzerland</td>\n",
       "      <td>Secondary income, balance</td>\n",
       "      <td>National Currency, Seasonally adjusted</td>\n",
       "      <td>Annual</td>\n",
       "      <td>2002</td>\n",
       "      <td>CHF</td>\n",
       "      <td>6</td>\n",
       "      <td>-6874.003</td>\n",
       "    </tr>\n",
       "    <tr>\n",
       "      <td>Switzerland</td>\n",
       "      <td>Secondary income, balance</td>\n",
       "      <td>National Currency, Seasonally adjusted</td>\n",
       "      <td>Annual</td>\n",
       "      <td>2003</td>\n",
       "      <td>CHF</td>\n",
       "      <td>6</td>\n",
       "      <td>-4985.801</td>\n",
       "    </tr>\n",
       "    <tr>\n",
       "      <td>Switzerland</td>\n",
       "      <td>Secondary income, balance</td>\n",
       "      <td>National Currency, Seasonally adjusted</td>\n",
       "      <td>Annual</td>\n",
       "      <td>2004</td>\n",
       "      <td>CHF</td>\n",
       "      <td>6</td>\n",
       "      <td>-4915.625</td>\n",
       "    </tr>\n",
       "    <tr>\n",
       "      <td>...</td>\n",
       "      <td>...</td>\n",
       "      <td>...</td>\n",
       "      <td>...</td>\n",
       "      <td>...</td>\n",
       "      <td>...</td>\n",
       "      <td>...</td>\n",
       "      <td>...</td>\n",
       "    </tr>\n",
       "    <tr>\n",
       "      <td>Sweden</td>\n",
       "      <td>Current account, debits</td>\n",
       "      <td>US-Dollar converted, Seasonally adjusted</td>\n",
       "      <td>Annual</td>\n",
       "      <td>2014</td>\n",
       "      <td>USD</td>\n",
       "      <td>6</td>\n",
       "      <td>297454.500</td>\n",
       "    </tr>\n",
       "    <tr>\n",
       "      <td>Sweden</td>\n",
       "      <td>Current account, debits</td>\n",
       "      <td>US-Dollar converted, Seasonally adjusted</td>\n",
       "      <td>Annual</td>\n",
       "      <td>2015</td>\n",
       "      <td>USD</td>\n",
       "      <td>6</td>\n",
       "      <td>256808.500</td>\n",
       "    </tr>\n",
       "    <tr>\n",
       "      <td>Sweden</td>\n",
       "      <td>Current account, debits</td>\n",
       "      <td>US-Dollar converted, Seasonally adjusted</td>\n",
       "      <td>Annual</td>\n",
       "      <td>2016</td>\n",
       "      <td>USD</td>\n",
       "      <td>6</td>\n",
       "      <td>257444.000</td>\n",
       "    </tr>\n",
       "    <tr>\n",
       "      <td>Sweden</td>\n",
       "      <td>Current account, debits</td>\n",
       "      <td>US-Dollar converted, Seasonally adjusted</td>\n",
       "      <td>Annual</td>\n",
       "      <td>2017</td>\n",
       "      <td>USD</td>\n",
       "      <td>6</td>\n",
       "      <td>279493.700</td>\n",
       "    </tr>\n",
       "    <tr>\n",
       "      <td>Sweden</td>\n",
       "      <td>Current account, debits</td>\n",
       "      <td>US-Dollar converted, Seasonally adjusted</td>\n",
       "      <td>Annual</td>\n",
       "      <td>2018</td>\n",
       "      <td>USD</td>\n",
       "      <td>6</td>\n",
       "      <td>304840.700</td>\n",
       "    </tr>\n",
       "  </tbody>\n",
       "</table>\n",
       "<p>56174 rows × 7 columns</p>\n",
       "</div>"
      ],
      "text/plain": [
       "                               Subject  \\\n",
       "Country                                  \n",
       "Switzerland  Secondary income, balance   \n",
       "Switzerland  Secondary income, balance   \n",
       "Switzerland  Secondary income, balance   \n",
       "Switzerland  Secondary income, balance   \n",
       "Switzerland  Secondary income, balance   \n",
       "...                                ...   \n",
       "Sweden         Current account, debits   \n",
       "Sweden         Current account, debits   \n",
       "Sweden         Current account, debits   \n",
       "Sweden         Current account, debits   \n",
       "Sweden         Current account, debits   \n",
       "\n",
       "                                              Measure Frequency  Time  \\\n",
       "Country                                                                 \n",
       "Switzerland    National Currency, Seasonally adjusted    Annual  2000   \n",
       "Switzerland    National Currency, Seasonally adjusted    Annual  2001   \n",
       "Switzerland    National Currency, Seasonally adjusted    Annual  2002   \n",
       "Switzerland    National Currency, Seasonally adjusted    Annual  2003   \n",
       "Switzerland    National Currency, Seasonally adjusted    Annual  2004   \n",
       "...                                               ...       ...   ...   \n",
       "Sweden       US-Dollar converted, Seasonally adjusted    Annual  2014   \n",
       "Sweden       US-Dollar converted, Seasonally adjusted    Annual  2015   \n",
       "Sweden       US-Dollar converted, Seasonally adjusted    Annual  2016   \n",
       "Sweden       US-Dollar converted, Seasonally adjusted    Annual  2017   \n",
       "Sweden       US-Dollar converted, Seasonally adjusted    Annual  2018   \n",
       "\n",
       "            Unit Code  PowerCode Code       Value  \n",
       "Country                                            \n",
       "Switzerland       CHF               6   -4759.916  \n",
       "Switzerland       CHF               6   -6653.170  \n",
       "Switzerland       CHF               6   -6874.003  \n",
       "Switzerland       CHF               6   -4985.801  \n",
       "Switzerland       CHF               6   -4915.625  \n",
       "...               ...             ...         ...  \n",
       "Sweden            USD               6  297454.500  \n",
       "Sweden            USD               6  256808.500  \n",
       "Sweden            USD               6  257444.000  \n",
       "Sweden            USD               6  279493.700  \n",
       "Sweden            USD               6  304840.700  \n",
       "\n",
       "[56174 rows x 7 columns]"
      ]
     },
     "execution_count": 333,
     "metadata": {},
     "output_type": "execute_result"
    }
   ],
   "source": [
    "cdf_europe"
   ]
  },
  {
   "cell_type": "markdown",
   "metadata": {},
   "source": [
    "Now lets get the data with currrent account, balance"
   ]
  },
  {
   "cell_type": "code",
   "execution_count": 334,
   "metadata": {},
   "outputs": [],
   "source": [
    "cdf_current=cdf_europe.loc[cdf_europe['Subject'] =='Current account, balance']"
   ]
  },
  {
   "cell_type": "code",
   "execution_count": 335,
   "metadata": {},
   "outputs": [
    {
     "data": {
      "text/html": [
       "<div>\n",
       "<style scoped>\n",
       "    .dataframe tbody tr th:only-of-type {\n",
       "        vertical-align: middle;\n",
       "    }\n",
       "\n",
       "    .dataframe tbody tr th {\n",
       "        vertical-align: top;\n",
       "    }\n",
       "\n",
       "    .dataframe thead th {\n",
       "        text-align: right;\n",
       "    }\n",
       "</style>\n",
       "<table border=\"1\" class=\"dataframe\">\n",
       "  <thead>\n",
       "    <tr style=\"text-align: right;\">\n",
       "      <th></th>\n",
       "      <th>Subject</th>\n",
       "      <th>Measure</th>\n",
       "      <th>Frequency</th>\n",
       "      <th>Time</th>\n",
       "      <th>Unit Code</th>\n",
       "      <th>PowerCode Code</th>\n",
       "      <th>Value</th>\n",
       "    </tr>\n",
       "    <tr>\n",
       "      <th>Country</th>\n",
       "      <th></th>\n",
       "      <th></th>\n",
       "      <th></th>\n",
       "      <th></th>\n",
       "      <th></th>\n",
       "      <th></th>\n",
       "      <th></th>\n",
       "    </tr>\n",
       "  </thead>\n",
       "  <tbody>\n",
       "    <tr>\n",
       "      <td>Switzerland</td>\n",
       "      <td>Current account, balance</td>\n",
       "      <td>US-Dollar converted, Seasonally adjusted</td>\n",
       "      <td>Annual</td>\n",
       "      <td>2000</td>\n",
       "      <td>USD</td>\n",
       "      <td>6</td>\n",
       "      <td>32540.25</td>\n",
       "    </tr>\n",
       "    <tr>\n",
       "      <td>Switzerland</td>\n",
       "      <td>Current account, balance</td>\n",
       "      <td>US-Dollar converted, Seasonally adjusted</td>\n",
       "      <td>Annual</td>\n",
       "      <td>2001</td>\n",
       "      <td>USD</td>\n",
       "      <td>6</td>\n",
       "      <td>22578.54</td>\n",
       "    </tr>\n",
       "    <tr>\n",
       "      <td>Switzerland</td>\n",
       "      <td>Current account, balance</td>\n",
       "      <td>US-Dollar converted, Seasonally adjusted</td>\n",
       "      <td>Annual</td>\n",
       "      <td>2002</td>\n",
       "      <td>USD</td>\n",
       "      <td>6</td>\n",
       "      <td>25143.72</td>\n",
       "    </tr>\n",
       "    <tr>\n",
       "      <td>Switzerland</td>\n",
       "      <td>Current account, balance</td>\n",
       "      <td>US-Dollar converted, Seasonally adjusted</td>\n",
       "      <td>Annual</td>\n",
       "      <td>2003</td>\n",
       "      <td>USD</td>\n",
       "      <td>6</td>\n",
       "      <td>44543.38</td>\n",
       "    </tr>\n",
       "    <tr>\n",
       "      <td>Switzerland</td>\n",
       "      <td>Current account, balance</td>\n",
       "      <td>US-Dollar converted, Seasonally adjusted</td>\n",
       "      <td>Annual</td>\n",
       "      <td>2004</td>\n",
       "      <td>USD</td>\n",
       "      <td>6</td>\n",
       "      <td>57722.68</td>\n",
       "    </tr>\n",
       "    <tr>\n",
       "      <td>...</td>\n",
       "      <td>...</td>\n",
       "      <td>...</td>\n",
       "      <td>...</td>\n",
       "      <td>...</td>\n",
       "      <td>...</td>\n",
       "      <td>...</td>\n",
       "      <td>...</td>\n",
       "    </tr>\n",
       "    <tr>\n",
       "      <td>Sweden</td>\n",
       "      <td>Current account, balance</td>\n",
       "      <td>National Currency</td>\n",
       "      <td>Annual</td>\n",
       "      <td>2014</td>\n",
       "      <td>SEK</td>\n",
       "      <td>6</td>\n",
       "      <td>179052.00</td>\n",
       "    </tr>\n",
       "    <tr>\n",
       "      <td>Sweden</td>\n",
       "      <td>Current account, balance</td>\n",
       "      <td>National Currency</td>\n",
       "      <td>Annual</td>\n",
       "      <td>2015</td>\n",
       "      <td>SEK</td>\n",
       "      <td>6</td>\n",
       "      <td>174640.00</td>\n",
       "    </tr>\n",
       "    <tr>\n",
       "      <td>Sweden</td>\n",
       "      <td>Current account, balance</td>\n",
       "      <td>National Currency</td>\n",
       "      <td>Annual</td>\n",
       "      <td>2016</td>\n",
       "      <td>SEK</td>\n",
       "      <td>6</td>\n",
       "      <td>156205.00</td>\n",
       "    </tr>\n",
       "    <tr>\n",
       "      <td>Sweden</td>\n",
       "      <td>Current account, balance</td>\n",
       "      <td>National Currency</td>\n",
       "      <td>Annual</td>\n",
       "      <td>2017</td>\n",
       "      <td>SEK</td>\n",
       "      <td>6</td>\n",
       "      <td>141852.00</td>\n",
       "    </tr>\n",
       "    <tr>\n",
       "      <td>Sweden</td>\n",
       "      <td>Current account, balance</td>\n",
       "      <td>National Currency</td>\n",
       "      <td>Annual</td>\n",
       "      <td>2018</td>\n",
       "      <td>SEK</td>\n",
       "      <td>6</td>\n",
       "      <td>84613.00</td>\n",
       "    </tr>\n",
       "  </tbody>\n",
       "</table>\n",
       "<p>2098 rows × 7 columns</p>\n",
       "</div>"
      ],
      "text/plain": [
       "                              Subject  \\\n",
       "Country                                 \n",
       "Switzerland  Current account, balance   \n",
       "Switzerland  Current account, balance   \n",
       "Switzerland  Current account, balance   \n",
       "Switzerland  Current account, balance   \n",
       "Switzerland  Current account, balance   \n",
       "...                               ...   \n",
       "Sweden       Current account, balance   \n",
       "Sweden       Current account, balance   \n",
       "Sweden       Current account, balance   \n",
       "Sweden       Current account, balance   \n",
       "Sweden       Current account, balance   \n",
       "\n",
       "                                              Measure Frequency  Time  \\\n",
       "Country                                                                 \n",
       "Switzerland  US-Dollar converted, Seasonally adjusted    Annual  2000   \n",
       "Switzerland  US-Dollar converted, Seasonally adjusted    Annual  2001   \n",
       "Switzerland  US-Dollar converted, Seasonally adjusted    Annual  2002   \n",
       "Switzerland  US-Dollar converted, Seasonally adjusted    Annual  2003   \n",
       "Switzerland  US-Dollar converted, Seasonally adjusted    Annual  2004   \n",
       "...                                               ...       ...   ...   \n",
       "Sweden                              National Currency    Annual  2014   \n",
       "Sweden                              National Currency    Annual  2015   \n",
       "Sweden                              National Currency    Annual  2016   \n",
       "Sweden                              National Currency    Annual  2017   \n",
       "Sweden                              National Currency    Annual  2018   \n",
       "\n",
       "            Unit Code  PowerCode Code      Value  \n",
       "Country                                           \n",
       "Switzerland       USD               6   32540.25  \n",
       "Switzerland       USD               6   22578.54  \n",
       "Switzerland       USD               6   25143.72  \n",
       "Switzerland       USD               6   44543.38  \n",
       "Switzerland       USD               6   57722.68  \n",
       "...               ...             ...        ...  \n",
       "Sweden            SEK               6  179052.00  \n",
       "Sweden            SEK               6  174640.00  \n",
       "Sweden            SEK               6  156205.00  \n",
       "Sweden            SEK               6  141852.00  \n",
       "Sweden            SEK               6   84613.00  \n",
       "\n",
       "[2098 rows x 7 columns]"
      ]
     },
     "execution_count": 335,
     "metadata": {},
     "output_type": "execute_result"
    }
   ],
   "source": [
    "cdf_current"
   ]
  },
  {
   "cell_type": "code",
   "execution_count": 336,
   "metadata": {},
   "outputs": [
    {
     "name": "stdout",
     "output_type": "stream",
     "text": [
      "Subject           0\n",
      "Measure           0\n",
      "Frequency         0\n",
      "Time              0\n",
      "Unit Code         0\n",
      "PowerCode Code    0\n",
      "Value             0\n",
      "dtype: int64\n"
     ]
    }
   ],
   "source": [
    "print(cdf_europe.isnull().sum())"
   ]
  },
  {
   "cell_type": "code",
   "execution_count": 337,
   "metadata": {},
   "outputs": [
    {
     "data": {
      "text/plain": [
       "array(['US-Dollar converted, Seasonally adjusted', 'US-Dollar converted',\n",
       "       'National Currency, Seasonally adjusted', 'National Currency'],\n",
       "      dtype=object)"
      ]
     },
     "execution_count": 337,
     "metadata": {},
     "output_type": "execute_result"
    }
   ],
   "source": [
    "cdf_current.Measure.unique()"
   ]
  },
  {
   "cell_type": "code",
   "execution_count": 338,
   "metadata": {},
   "outputs": [],
   "source": [
    "cdf_current_usd=cdf_current.loc[cdf_current['Measure'] =='US-Dollar converted, Seasonally adjusted']"
   ]
  },
  {
   "cell_type": "code",
   "execution_count": 339,
   "metadata": {},
   "outputs": [
    {
     "data": {
      "text/html": [
       "<div>\n",
       "<style scoped>\n",
       "    .dataframe tbody tr th:only-of-type {\n",
       "        vertical-align: middle;\n",
       "    }\n",
       "\n",
       "    .dataframe tbody tr th {\n",
       "        vertical-align: top;\n",
       "    }\n",
       "\n",
       "    .dataframe thead th {\n",
       "        text-align: right;\n",
       "    }\n",
       "</style>\n",
       "<table border=\"1\" class=\"dataframe\">\n",
       "  <thead>\n",
       "    <tr style=\"text-align: right;\">\n",
       "      <th></th>\n",
       "      <th>Subject</th>\n",
       "      <th>Measure</th>\n",
       "      <th>Frequency</th>\n",
       "      <th>Time</th>\n",
       "      <th>Unit Code</th>\n",
       "      <th>PowerCode Code</th>\n",
       "      <th>Value</th>\n",
       "    </tr>\n",
       "    <tr>\n",
       "      <th>Country</th>\n",
       "      <th></th>\n",
       "      <th></th>\n",
       "      <th></th>\n",
       "      <th></th>\n",
       "      <th></th>\n",
       "      <th></th>\n",
       "      <th></th>\n",
       "    </tr>\n",
       "  </thead>\n",
       "  <tbody>\n",
       "    <tr>\n",
       "      <td>Switzerland</td>\n",
       "      <td>Current account, balance</td>\n",
       "      <td>US-Dollar converted, Seasonally adjusted</td>\n",
       "      <td>Annual</td>\n",
       "      <td>2000</td>\n",
       "      <td>USD</td>\n",
       "      <td>6</td>\n",
       "      <td>32540.250</td>\n",
       "    </tr>\n",
       "    <tr>\n",
       "      <td>Switzerland</td>\n",
       "      <td>Current account, balance</td>\n",
       "      <td>US-Dollar converted, Seasonally adjusted</td>\n",
       "      <td>Annual</td>\n",
       "      <td>2001</td>\n",
       "      <td>USD</td>\n",
       "      <td>6</td>\n",
       "      <td>22578.540</td>\n",
       "    </tr>\n",
       "    <tr>\n",
       "      <td>Switzerland</td>\n",
       "      <td>Current account, balance</td>\n",
       "      <td>US-Dollar converted, Seasonally adjusted</td>\n",
       "      <td>Annual</td>\n",
       "      <td>2002</td>\n",
       "      <td>USD</td>\n",
       "      <td>6</td>\n",
       "      <td>25143.720</td>\n",
       "    </tr>\n",
       "    <tr>\n",
       "      <td>Switzerland</td>\n",
       "      <td>Current account, balance</td>\n",
       "      <td>US-Dollar converted, Seasonally adjusted</td>\n",
       "      <td>Annual</td>\n",
       "      <td>2003</td>\n",
       "      <td>USD</td>\n",
       "      <td>6</td>\n",
       "      <td>44543.380</td>\n",
       "    </tr>\n",
       "    <tr>\n",
       "      <td>Switzerland</td>\n",
       "      <td>Current account, balance</td>\n",
       "      <td>US-Dollar converted, Seasonally adjusted</td>\n",
       "      <td>Annual</td>\n",
       "      <td>2004</td>\n",
       "      <td>USD</td>\n",
       "      <td>6</td>\n",
       "      <td>57722.680</td>\n",
       "    </tr>\n",
       "    <tr>\n",
       "      <td>...</td>\n",
       "      <td>...</td>\n",
       "      <td>...</td>\n",
       "      <td>...</td>\n",
       "      <td>...</td>\n",
       "      <td>...</td>\n",
       "      <td>...</td>\n",
       "      <td>...</td>\n",
       "    </tr>\n",
       "    <tr>\n",
       "      <td>Sweden</td>\n",
       "      <td>Current account, balance</td>\n",
       "      <td>US-Dollar converted, Seasonally adjusted</td>\n",
       "      <td>Annual</td>\n",
       "      <td>2014</td>\n",
       "      <td>USD</td>\n",
       "      <td>6</td>\n",
       "      <td>26101.190</td>\n",
       "    </tr>\n",
       "    <tr>\n",
       "      <td>Sweden</td>\n",
       "      <td>Current account, balance</td>\n",
       "      <td>US-Dollar converted, Seasonally adjusted</td>\n",
       "      <td>Annual</td>\n",
       "      <td>2015</td>\n",
       "      <td>USD</td>\n",
       "      <td>6</td>\n",
       "      <td>20718.270</td>\n",
       "    </tr>\n",
       "    <tr>\n",
       "      <td>Sweden</td>\n",
       "      <td>Current account, balance</td>\n",
       "      <td>US-Dollar converted, Seasonally adjusted</td>\n",
       "      <td>Annual</td>\n",
       "      <td>2016</td>\n",
       "      <td>USD</td>\n",
       "      <td>6</td>\n",
       "      <td>18255.340</td>\n",
       "    </tr>\n",
       "    <tr>\n",
       "      <td>Sweden</td>\n",
       "      <td>Current account, balance</td>\n",
       "      <td>US-Dollar converted, Seasonally adjusted</td>\n",
       "      <td>Annual</td>\n",
       "      <td>2017</td>\n",
       "      <td>USD</td>\n",
       "      <td>6</td>\n",
       "      <td>16596.520</td>\n",
       "    </tr>\n",
       "    <tr>\n",
       "      <td>Sweden</td>\n",
       "      <td>Current account, balance</td>\n",
       "      <td>US-Dollar converted, Seasonally adjusted</td>\n",
       "      <td>Annual</td>\n",
       "      <td>2018</td>\n",
       "      <td>USD</td>\n",
       "      <td>6</td>\n",
       "      <td>9736.362</td>\n",
       "    </tr>\n",
       "  </tbody>\n",
       "</table>\n",
       "<p>537 rows × 7 columns</p>\n",
       "</div>"
      ],
      "text/plain": [
       "                              Subject  \\\n",
       "Country                                 \n",
       "Switzerland  Current account, balance   \n",
       "Switzerland  Current account, balance   \n",
       "Switzerland  Current account, balance   \n",
       "Switzerland  Current account, balance   \n",
       "Switzerland  Current account, balance   \n",
       "...                               ...   \n",
       "Sweden       Current account, balance   \n",
       "Sweden       Current account, balance   \n",
       "Sweden       Current account, balance   \n",
       "Sweden       Current account, balance   \n",
       "Sweden       Current account, balance   \n",
       "\n",
       "                                              Measure Frequency  Time  \\\n",
       "Country                                                                 \n",
       "Switzerland  US-Dollar converted, Seasonally adjusted    Annual  2000   \n",
       "Switzerland  US-Dollar converted, Seasonally adjusted    Annual  2001   \n",
       "Switzerland  US-Dollar converted, Seasonally adjusted    Annual  2002   \n",
       "Switzerland  US-Dollar converted, Seasonally adjusted    Annual  2003   \n",
       "Switzerland  US-Dollar converted, Seasonally adjusted    Annual  2004   \n",
       "...                                               ...       ...   ...   \n",
       "Sweden       US-Dollar converted, Seasonally adjusted    Annual  2014   \n",
       "Sweden       US-Dollar converted, Seasonally adjusted    Annual  2015   \n",
       "Sweden       US-Dollar converted, Seasonally adjusted    Annual  2016   \n",
       "Sweden       US-Dollar converted, Seasonally adjusted    Annual  2017   \n",
       "Sweden       US-Dollar converted, Seasonally adjusted    Annual  2018   \n",
       "\n",
       "            Unit Code  PowerCode Code      Value  \n",
       "Country                                           \n",
       "Switzerland       USD               6  32540.250  \n",
       "Switzerland       USD               6  22578.540  \n",
       "Switzerland       USD               6  25143.720  \n",
       "Switzerland       USD               6  44543.380  \n",
       "Switzerland       USD               6  57722.680  \n",
       "...               ...             ...        ...  \n",
       "Sweden            USD               6  26101.190  \n",
       "Sweden            USD               6  20718.270  \n",
       "Sweden            USD               6  18255.340  \n",
       "Sweden            USD               6  16596.520  \n",
       "Sweden            USD               6   9736.362  \n",
       "\n",
       "[537 rows x 7 columns]"
      ]
     },
     "execution_count": 339,
     "metadata": {},
     "output_type": "execute_result"
    }
   ],
   "source": [
    "cdf_current_usd"
   ]
  },
  {
   "cell_type": "code",
   "execution_count": 340,
   "metadata": {},
   "outputs": [
    {
     "data": {
      "text/plain": [
       "Subject            object\n",
       "Measure            object\n",
       "Frequency          object\n",
       "Time                int64\n",
       "Unit Code          object\n",
       "PowerCode Code      int64\n",
       "Value             float64\n",
       "dtype: object"
      ]
     },
     "execution_count": 340,
     "metadata": {},
     "output_type": "execute_result"
    }
   ],
   "source": [
    "cdf_current_usd.dtypes"
   ]
  },
  {
   "cell_type": "code",
   "execution_count": 341,
   "metadata": {},
   "outputs": [
    {
     "data": {
      "text/plain": [
       "Index(['Subject', 'Measure', 'Frequency', 'Time', 'Unit Code',\n",
       "       'PowerCode Code', 'Value'],\n",
       "      dtype='object')"
      ]
     },
     "execution_count": 341,
     "metadata": {},
     "output_type": "execute_result"
    }
   ],
   "source": [
    "cdf_current_usd.columns"
   ]
  },
  {
   "cell_type": "code",
   "execution_count": 342,
   "metadata": {},
   "outputs": [
    {
     "data": {
      "text/plain": [
       "count     537.000000\n",
       "mean     2006.780261\n",
       "std         7.263185\n",
       "min      1990.000000\n",
       "25%      2001.000000\n",
       "50%      2007.000000\n",
       "75%      2013.000000\n",
       "max      2018.000000\n",
       "Name: Time, dtype: float64"
      ]
     },
     "execution_count": 342,
     "metadata": {},
     "output_type": "execute_result"
    }
   ],
   "source": [
    "cdf_current_usd['Time'].describe()"
   ]
  },
  {
   "cell_type": "markdown",
   "metadata": {},
   "source": [
    "# Ploting the data using plotly package\n",
    "we gonna plot time vs value with colour representing different countries"
   ]
  },
  {
   "cell_type": "code",
   "execution_count": 343,
   "metadata": {},
   "outputs": [
    {
     "data": {
      "application/vnd.plotly.v1+json": {
       "config": {
        "plotlyServerURL": "https://plot.ly"
       },
       "data": [
        {
         "hovertemplate": "<b>%{hovertext}</b><br><br>color=Switzerland<br>line_group=Switzerland<br>Time=%{x}<br>Value=%{y}<extra></extra>",
         "hovertext": [
          "Switzerland",
          "Switzerland",
          "Switzerland",
          "Switzerland",
          "Switzerland",
          "Switzerland",
          "Switzerland",
          "Switzerland",
          "Switzerland",
          "Switzerland",
          "Switzerland",
          "Switzerland",
          "Switzerland",
          "Switzerland",
          "Switzerland",
          "Switzerland",
          "Switzerland",
          "Switzerland",
          "Switzerland"
         ],
         "legendgroup": "Switzerland",
         "line": {
          "color": "#636efa",
          "dash": "solid"
         },
         "mode": "lines",
         "name": "Switzerland",
         "showlegend": true,
         "type": "scatter",
         "x": [
          2000,
          2001,
          2002,
          2003,
          2004,
          2005,
          2006,
          2007,
          2008,
          2009,
          2010,
          2011,
          2012,
          2013,
          2014,
          2015,
          2016,
          2017,
          2018
         ],
         "xaxis": "x",
         "y": [
          32540.25,
          22578.54,
          25143.72,
          44543.38,
          57722.68,
          54797.15,
          61574.68,
          48247.96,
          12715.57,
          39634.14,
          85473.93,
          54773.72,
          71358.99,
          79883.72,
          61218.96,
          76539.85,
          66151.25,
          43617.34,
          57938.48
         ],
         "yaxis": "y"
        },
        {
         "hovertemplate": "<b>%{hovertext}</b><br><br>color=New Zealand<br>line_group=New Zealand<br>Time=%{x}<br>Value=%{y}<extra></extra>",
         "hovertext": [
          "New Zealand",
          "New Zealand",
          "New Zealand",
          "New Zealand",
          "New Zealand",
          "New Zealand",
          "New Zealand",
          "New Zealand",
          "New Zealand",
          "New Zealand",
          "New Zealand",
          "New Zealand",
          "New Zealand",
          "New Zealand",
          "New Zealand",
          "New Zealand",
          "New Zealand",
          "New Zealand",
          "New Zealand",
          "New Zealand",
          "New Zealand",
          "New Zealand",
          "New Zealand",
          "New Zealand",
          "New Zealand",
          "New Zealand",
          "New Zealand",
          "New Zealand",
          "New Zealand"
         ],
         "legendgroup": "New Zealand",
         "line": {
          "color": "#EF553B",
          "dash": "solid"
         },
         "mode": "lines",
         "name": "New Zealand",
         "showlegend": true,
         "type": "scatter",
         "x": [
          1990,
          1991,
          1992,
          1993,
          1994,
          1995,
          1996,
          1997,
          1998,
          1999,
          2000,
          2001,
          2002,
          2003,
          2004,
          2005,
          2006,
          2007,
          2008,
          2009,
          2010,
          2011,
          2012,
          2013,
          2014,
          2015,
          2016,
          2017,
          2018
         ],
         "xaxis": "x",
         "y": [
          -1275.7730000000001,
          -1030.193,
          -1512.624,
          -1505.1589999999999,
          -1651.316,
          -2429.761,
          -3281.423,
          -3625.6009999999997,
          -1503.3310000000001,
          -2854.744,
          -1781.9089999999999,
          -431.7536,
          -1335.148,
          -2014.418,
          -4657.693,
          -7997.33,
          -7857.414000000001,
          -9146.826,
          -10442.56,
          -2763.8559999999998,
          -3311.058,
          -4685.917,
          -6867.644,
          -5760.468000000001,
          -6194.738,
          -4783.082,
          -3797.3720000000003,
          -5435.948,
          -7850.706999999999
         ],
         "yaxis": "y"
        },
        {
         "hovertemplate": "<b>%{hovertext}</b><br><br>color=Estonia<br>line_group=Estonia<br>Time=%{x}<br>Value=%{y}<extra></extra>",
         "hovertext": [
          "Estonia",
          "Estonia",
          "Estonia",
          "Estonia",
          "Estonia",
          "Estonia",
          "Estonia",
          "Estonia",
          "Estonia",
          "Estonia",
          "Estonia",
          "Estonia",
          "Estonia",
          "Estonia",
          "Estonia",
          "Estonia",
          "Estonia",
          "Estonia",
          "Estonia",
          "Estonia",
          "Estonia",
          "Estonia",
          "Estonia",
          "Estonia",
          "Estonia",
          "Estonia"
         ],
         "legendgroup": "Estonia",
         "line": {
          "color": "#00cc96",
          "dash": "solid"
         },
         "mode": "lines",
         "name": "Estonia",
         "showlegend": true,
         "type": "scatter",
         "x": [
          1993,
          1994,
          1995,
          1996,
          1997,
          1998,
          1999,
          2000,
          2001,
          2002,
          2003,
          2004,
          2005,
          2006,
          2007,
          2008,
          2009,
          2010,
          2011,
          2012,
          2013,
          2014,
          2015,
          2016,
          2017,
          2018
         ],
         "xaxis": "x",
         "y": [
          22.482870000000002,
          -166.2065,
          -157.6295,
          -399.8084,
          -562.6656,
          -480.4704,
          -245.9309,
          -307.8857,
          -444.1152,
          -815.4004,
          -1270.797,
          -1448.067,
          -1223.997,
          -2542.397,
          -3335.17,
          -2104.757,
          500.9173,
          348.3984,
          305.0787,
          -436.88599999999997,
          73.27781,
          190.3953,
          405.9008,
          397.2214,
          716.4861,
          609.6838
         ],
         "yaxis": "y"
        },
        {
         "hovertemplate": "<b>%{hovertext}</b><br><br>color=Austria<br>line_group=Austria<br>Time=%{x}<br>Value=%{y}<extra></extra>",
         "hovertext": [
          "Austria",
          "Austria",
          "Austria",
          "Austria",
          "Austria",
          "Austria",
          "Austria",
          "Austria",
          "Austria",
          "Austria",
          "Austria",
          "Austria",
          "Austria",
          "Austria",
          "Austria",
          "Austria",
          "Austria",
          "Austria",
          "Austria",
          "Austria",
          "Austria",
          "Austria",
          "Austria",
          "Austria"
         ],
         "legendgroup": "Austria",
         "line": {
          "color": "#ab63fa",
          "dash": "solid"
         },
         "mode": "lines",
         "name": "Austria",
         "showlegend": true,
         "type": "scatter",
         "x": [
          1995,
          1996,
          1997,
          1998,
          1999,
          2000,
          2001,
          2002,
          2003,
          2004,
          2005,
          2006,
          2007,
          2008,
          2009,
          2010,
          2011,
          2012,
          2013,
          2014,
          2015,
          2016,
          2017,
          2018
         ],
         "xaxis": "x",
         "y": [
          -6891.689,
          -6736.545,
          -5417.419,
          -4076.1259999999997,
          -4909.634,
          -1393.425,
          -1571.692,
          4490.771,
          4051.23,
          6249.518,
          7130.079000000001,
          11074.47,
          14781.95,
          19282.66,
          10391.77,
          11188.76,
          7033.218000000001,
          6071.931,
          8351.28,
          10934.13,
          6589.371999999999,
          10772.09,
          6477.233,
          10602.79
         ],
         "yaxis": "y"
        },
        {
         "hovertemplate": "<b>%{hovertext}</b><br><br>color=Italy<br>line_group=Italy<br>Time=%{x}<br>Value=%{y}<extra></extra>",
         "hovertext": [
          "Italy",
          "Italy",
          "Italy",
          "Italy",
          "Italy",
          "Italy",
          "Italy",
          "Italy",
          "Italy",
          "Italy",
          "Italy",
          "Italy",
          "Italy",
          "Italy",
          "Italy",
          "Italy",
          "Italy",
          "Italy",
          "Italy",
          "Italy",
          "Italy",
          "Italy",
          "Italy",
          "Italy"
         ],
         "legendgroup": "Italy",
         "line": {
          "color": "#FFA15A",
          "dash": "solid"
         },
         "mode": "lines",
         "name": "Italy",
         "showlegend": true,
         "type": "scatter",
         "x": [
          1995,
          1996,
          1997,
          1998,
          1999,
          2000,
          2001,
          2002,
          2003,
          2004,
          2005,
          2006,
          2007,
          2008,
          2009,
          2010,
          2011,
          2012,
          2013,
          2014,
          2015,
          2016,
          2017,
          2018
         ],
         "xaxis": "x",
         "y": [
          28079.47,
          43200.3,
          36704.45,
          26028.88,
          10032.36,
          -3119.54,
          1805.431,
          -6335.144,
          -12406.75,
          -8693.415,
          -16397.81,
          -28765.01,
          -30226.48,
          -66908.16,
          -41305.89,
          -70309.85,
          -64764.56,
          -4814.872,
          23732.98,
          41005.97,
          26099.02,
          48651.88,
          50403.16,
          51954.12
         ],
         "yaxis": "y"
        },
        {
         "hovertemplate": "<b>%{hovertext}</b><br><br>color=Czech Republic<br>line_group=Czech Republic<br>Time=%{x}<br>Value=%{y}<extra></extra>",
         "hovertext": [
          "Czech Republic",
          "Czech Republic",
          "Czech Republic",
          "Czech Republic",
          "Czech Republic",
          "Czech Republic",
          "Czech Republic",
          "Czech Republic",
          "Czech Republic",
          "Czech Republic",
          "Czech Republic",
          "Czech Republic",
          "Czech Republic",
          "Czech Republic",
          "Czech Republic",
          "Czech Republic",
          "Czech Republic",
          "Czech Republic",
          "Czech Republic",
          "Czech Republic",
          "Czech Republic",
          "Czech Republic",
          "Czech Republic",
          "Czech Republic",
          "Czech Republic",
          "Czech Republic"
         ],
         "legendgroup": "Czech Republic",
         "line": {
          "color": "#19d3f3",
          "dash": "solid"
         },
         "mode": "lines",
         "name": "Czech Republic",
         "showlegend": true,
         "type": "scatter",
         "x": [
          1993,
          1994,
          1995,
          1996,
          1997,
          1998,
          1999,
          2000,
          2001,
          2002,
          2003,
          2004,
          2005,
          2006,
          2007,
          2008,
          2009,
          2010,
          2011,
          2012,
          2013,
          2014,
          2015,
          2016,
          2017,
          2018
         ],
         "xaxis": "x",
         "y": [
          455.7159,
          -786.5465,
          -1369.023,
          -4120.5,
          -3565.252,
          -1254.401,
          -1462.862,
          -2714.395,
          -3273.2659999999996,
          -4166.371,
          -5693.969,
          -4452.885,
          -2869.3920000000003,
          -3835.6859999999997,
          -8729.523000000001,
          -4406.522,
          -4682.413,
          -7430.8,
          -4798.433,
          -3240.455,
          -1113.623,
          379.7132,
          458.7488,
          3036.75,
          3568.84,
          1041.151
         ],
         "yaxis": "y"
        },
        {
         "hovertemplate": "<b>%{hovertext}</b><br><br>color=Slovak Republic<br>line_group=Slovak Republic<br>Time=%{x}<br>Value=%{y}<extra></extra>",
         "hovertext": [
          "Slovak Republic",
          "Slovak Republic",
          "Slovak Republic",
          "Slovak Republic",
          "Slovak Republic",
          "Slovak Republic",
          "Slovak Republic",
          "Slovak Republic",
          "Slovak Republic",
          "Slovak Republic",
          "Slovak Republic",
          "Slovak Republic",
          "Slovak Republic",
          "Slovak Republic",
          "Slovak Republic"
         ],
         "legendgroup": "Slovak Republic",
         "line": {
          "color": "#FF6692",
          "dash": "solid"
         },
         "mode": "lines",
         "name": "Slovak Republic",
         "showlegend": true,
         "type": "scatter",
         "x": [
          2004,
          2005,
          2006,
          2007,
          2008,
          2009,
          2010,
          2011,
          2012,
          2013,
          2014,
          2015,
          2016,
          2017,
          2018
         ],
         "xaxis": "x",
         "y": [
          -3286.15,
          -4058.595,
          -4374.457,
          -4028.905,
          -6010.979,
          -3066.2670000000003,
          -4216.181,
          -4862.487,
          878.6563,
          1830.618,
          1155.109,
          -1851.125,
          -2456.425,
          -1824.131,
          -2797.63
         ],
         "yaxis": "y"
        },
        {
         "hovertemplate": "<b>%{hovertext}</b><br><br>color=France<br>line_group=France<br>Time=%{x}<br>Value=%{y}<extra></extra>",
         "hovertext": [
          "France",
          "France",
          "France",
          "France",
          "France",
          "France",
          "France",
          "France",
          "France",
          "France",
          "France",
          "France",
          "France",
          "France",
          "France",
          "France",
          "France",
          "France",
          "France",
          "France"
         ],
         "legendgroup": "France",
         "line": {
          "color": "#B6E880",
          "dash": "solid"
         },
         "mode": "lines",
         "name": "France",
         "showlegend": true,
         "type": "scatter",
         "x": [
          1999,
          2000,
          2001,
          2002,
          2003,
          2004,
          2005,
          2006,
          2007,
          2008,
          2009,
          2010,
          2011,
          2012,
          2013,
          2014,
          2015,
          2016,
          2017,
          2018
         ],
         "xaxis": "x",
         "y": [
          50793.61,
          14982.08,
          21694.72,
          17180.85,
          15397.16,
          11278.95,
          2281.824,
          5874.251,
          -2707.788,
          -20282.69,
          -14794.38,
          -16614.94,
          -24599.58,
          -25902.11,
          -14332.98,
          -27270.97,
          -8976.633,
          -12017.28,
          -18483.67,
          -17864.47
         ],
         "yaxis": "y"
        },
        {
         "hovertemplate": "<b>%{hovertext}</b><br><br>color=Portugal<br>line_group=Portugal<br>Time=%{x}<br>Value=%{y}<extra></extra>",
         "hovertext": [
          "Portugal",
          "Portugal",
          "Portugal",
          "Portugal",
          "Portugal",
          "Portugal",
          "Portugal",
          "Portugal",
          "Portugal",
          "Portugal",
          "Portugal",
          "Portugal",
          "Portugal",
          "Portugal",
          "Portugal",
          "Portugal",
          "Portugal",
          "Portugal",
          "Portugal",
          "Portugal",
          "Portugal",
          "Portugal",
          "Portugal"
         ],
         "legendgroup": "Portugal",
         "line": {
          "color": "#FF97FF",
          "dash": "solid"
         },
         "mode": "lines",
         "name": "Portugal",
         "showlegend": true,
         "type": "scatter",
         "x": [
          1996,
          1997,
          1998,
          1999,
          2000,
          2001,
          2002,
          2003,
          2004,
          2005,
          2006,
          2007,
          2008,
          2009,
          2010,
          2011,
          2012,
          2013,
          2014,
          2015,
          2016,
          2017,
          2018
         ],
         "xaxis": "x",
         "y": [
          -5542.026,
          -7234.78,
          -9360.322,
          -11298.12,
          -12776.75,
          -12704.29,
          -11261.33,
          -10943.74,
          -15047.3,
          -18888.43,
          -21412.15,
          -23113.4,
          -30984.72,
          -25086.12,
          -24395.95,
          -14636.55,
          -3490.975,
          3697.078,
          360.8886,
          455.9313,
          2415.177,
          2876.7659999999996,
          933.5267
         ],
         "yaxis": "y"
        },
        {
         "hovertemplate": "<b>%{hovertext}</b><br><br>color=Latvia<br>line_group=Latvia<br>Time=%{x}<br>Value=%{y}<extra></extra>",
         "hovertext": [
          "Latvia",
          "Latvia",
          "Latvia",
          "Latvia",
          "Latvia",
          "Latvia",
          "Latvia",
          "Latvia",
          "Latvia",
          "Latvia",
          "Latvia",
          "Latvia",
          "Latvia",
          "Latvia",
          "Latvia",
          "Latvia",
          "Latvia",
          "Latvia",
          "Latvia"
         ],
         "legendgroup": "Latvia",
         "line": {
          "color": "#FECB52",
          "dash": "solid"
         },
         "mode": "lines",
         "name": "Latvia",
         "showlegend": true,
         "type": "scatter",
         "x": [
          2000,
          2001,
          2002,
          2003,
          2004,
          2005,
          2006,
          2007,
          2008,
          2009,
          2010,
          2011,
          2012,
          2013,
          2014,
          2015,
          2016,
          2017,
          2018
         ],
         "xaxis": "x",
         "y": [
          -329.0954,
          -569.705,
          -585.4884,
          -897.7592,
          -1758.8529999999998,
          -1989.995,
          -4428.201,
          -6461.853,
          -4411.375,
          2154.774,
          655.8047,
          -757.1606,
          -924.0065,
          -837.6961,
          -566.5421,
          -119.8068,
          432.3875,
          269.415,
          -194.7306
         ],
         "yaxis": "y"
        },
        {
         "hovertemplate": "<b>%{hovertext}</b><br><br>color=Netherlands<br>line_group=Netherlands<br>Time=%{x}<br>Value=%{y}<extra></extra>",
         "hovertext": [
          "Netherlands",
          "Netherlands",
          "Netherlands",
          "Netherlands",
          "Netherlands",
          "Netherlands",
          "Netherlands",
          "Netherlands",
          "Netherlands",
          "Netherlands",
          "Netherlands",
          "Netherlands",
          "Netherlands",
          "Netherlands",
          "Netherlands"
         ],
         "legendgroup": "Netherlands",
         "line": {
          "color": "#636efa",
          "dash": "solid"
         },
         "mode": "lines",
         "name": "Netherlands",
         "showlegend": true,
         "type": "scatter",
         "x": [
          2004,
          2005,
          2006,
          2007,
          2008,
          2009,
          2010,
          2011,
          2012,
          2013,
          2014,
          2015,
          2016,
          2017,
          2018
         ],
         "xaxis": "x",
         "y": [
          49987.45,
          48335.89,
          66729.24,
          58472.08,
          47100.63,
          46981.08,
          58942.3,
          77747.78,
          85734.53,
          85494.76,
          75535.84,
          48168.97,
          63148.48,
          90029.71,
          99337.38
         ],
         "yaxis": "y"
        },
        {
         "hovertemplate": "<b>%{hovertext}</b><br><br>color=Germany<br>line_group=Germany<br>Time=%{x}<br>Value=%{y}<extra></extra>",
         "hovertext": [
          "Germany",
          "Germany",
          "Germany",
          "Germany",
          "Germany",
          "Germany",
          "Germany",
          "Germany",
          "Germany",
          "Germany",
          "Germany",
          "Germany",
          "Germany",
          "Germany",
          "Germany",
          "Germany",
          "Germany",
          "Germany",
          "Germany",
          "Germany",
          "Germany",
          "Germany",
          "Germany",
          "Germany",
          "Germany",
          "Germany",
          "Germany",
          "Germany"
         ],
         "legendgroup": "Germany",
         "line": {
          "color": "#EF553B",
          "dash": "solid"
         },
         "mode": "lines",
         "name": "Germany",
         "showlegend": true,
         "type": "scatter",
         "x": [
          1991,
          1992,
          1993,
          1994,
          1995,
          1996,
          1997,
          1998,
          1999,
          2000,
          2001,
          2002,
          2003,
          2004,
          2005,
          2006,
          2007,
          2008,
          2009,
          2010,
          2011,
          2012,
          2013,
          2014,
          2015,
          2016,
          2017,
          2018
         ],
         "xaxis": "x",
         "y": [
          -26586.56,
          -25222.5,
          -21468.71,
          -33067.47,
          -32210.08,
          -16882.08,
          -11276.07,
          -15912.33,
          -31211.55,
          -34234.76,
          -7161.721,
          39163.48,
          35322.3,
          127067.7,
          132910,
          172804.7,
          234765.8,
          211928,
          198311.9,
          195082.8,
          232688.5,
          251552,
          244724,
          279830.7,
          288739.8,
          294918.1,
          286192,
          291950.7
         ],
         "yaxis": "y"
        },
        {
         "hovertemplate": "<b>%{hovertext}</b><br><br>color=Belgium<br>line_group=Belgium<br>Time=%{x}<br>Value=%{y}<extra></extra>",
         "hovertext": [
          "Belgium",
          "Belgium",
          "Belgium",
          "Belgium",
          "Belgium",
          "Belgium",
          "Belgium",
          "Belgium",
          "Belgium",
          "Belgium",
          "Belgium",
          "Belgium",
          "Belgium",
          "Belgium",
          "Belgium",
          "Belgium"
         ],
         "legendgroup": "Belgium",
         "line": {
          "color": "#00cc96",
          "dash": "solid"
         },
         "mode": "lines",
         "name": "Belgium",
         "showlegend": true,
         "type": "scatter",
         "x": [
          2003,
          2004,
          2005,
          2006,
          2007,
          2008,
          2009,
          2010,
          2011,
          2012,
          2013,
          2014,
          2015,
          2016,
          2017,
          2018
         ],
         "xaxis": "x",
         "y": [
          11266.74,
          12132.14,
          8066.545999999999,
          7872,
          9202.921999999999,
          -5168.262,
          7973.043000000001,
          7811.47,
          -10141.02,
          -402.3104,
          4978.112,
          4127.664000000001,
          6394.130999999999,
          2620.865,
          6167.236999999999,
          -7520.142
         ],
         "yaxis": "y"
        },
        {
         "hovertemplate": "<b>%{hovertext}</b><br><br>color=Luxembourg<br>line_group=Luxembourg<br>Time=%{x}<br>Value=%{y}<extra></extra>",
         "hovertext": [
          "Luxembourg",
          "Luxembourg",
          "Luxembourg",
          "Luxembourg",
          "Luxembourg",
          "Luxembourg",
          "Luxembourg",
          "Luxembourg",
          "Luxembourg",
          "Luxembourg",
          "Luxembourg",
          "Luxembourg",
          "Luxembourg",
          "Luxembourg",
          "Luxembourg",
          "Luxembourg",
          "Luxembourg",
          "Luxembourg",
          "Luxembourg",
          "Luxembourg",
          "Luxembourg",
          "Luxembourg",
          "Luxembourg",
          "Luxembourg"
         ],
         "legendgroup": "Luxembourg",
         "line": {
          "color": "#ab63fa",
          "dash": "solid"
         },
         "mode": "lines",
         "name": "Luxembourg",
         "showlegend": true,
         "type": "scatter",
         "x": [
          1995,
          1996,
          1997,
          1998,
          1999,
          2000,
          2001,
          2002,
          2003,
          2004,
          2005,
          2006,
          2007,
          2008,
          2009,
          2010,
          2011,
          2012,
          2013,
          2014,
          2015,
          2016,
          2017,
          2018
         ],
         "xaxis": "x",
         "y": [
          2396.416,
          2242.331,
          1935.41,
          1792.854,
          1771.219,
          2680.684,
          1769.8770000000002,
          2210.0429999999997,
          1918.29,
          4097.596,
          4101.318,
          4202.349,
          4952.871,
          4225.255,
          3702.415,
          3548.14,
          3630.631,
          3200.489,
          3343.9640000000004,
          3409.867,
          2929.719,
          3002.384,
          3140.545,
          3369.429
         ],
         "yaxis": "y"
        },
        {
         "hovertemplate": "<b>%{hovertext}</b><br><br>color=Slovenia<br>line_group=Slovenia<br>Time=%{x}<br>Value=%{y}<extra></extra>",
         "hovertext": [
          "Slovenia",
          "Slovenia",
          "Slovenia",
          "Slovenia",
          "Slovenia",
          "Slovenia",
          "Slovenia",
          "Slovenia",
          "Slovenia",
          "Slovenia",
          "Slovenia",
          "Slovenia",
          "Slovenia",
          "Slovenia",
          "Slovenia",
          "Slovenia",
          "Slovenia",
          "Slovenia",
          "Slovenia",
          "Slovenia",
          "Slovenia",
          "Slovenia",
          "Slovenia",
          "Slovenia"
         ],
         "legendgroup": "Slovenia",
         "line": {
          "color": "#FFA15A",
          "dash": "solid"
         },
         "mode": "lines",
         "name": "Slovenia",
         "showlegend": true,
         "type": "scatter",
         "x": [
          1995,
          1996,
          1997,
          1998,
          1999,
          2000,
          2001,
          2002,
          2003,
          2004,
          2005,
          2006,
          2007,
          2008,
          2009,
          2010,
          2011,
          2012,
          2013,
          2014,
          2015,
          2016,
          2017,
          2018
         ],
         "xaxis": "x",
         "y": [
          -149.6223,
          21.2439,
          31.51414,
          -190.4032,
          -912.3158,
          -656.5258,
          6.910319,
          215.4508,
          -248.7632,
          -930.4957,
          -651.622,
          -727.5883,
          -1987.719,
          -2944.5209999999997,
          -534.7316,
          -360.9063,
          -419.5179,
          615.8049,
          1597.9070000000002,
          2553.154,
          1644.4589999999998,
          2147.561,
          3030.975,
          3285.4
         ],
         "yaxis": "y"
        },
        {
         "hovertemplate": "<b>%{hovertext}</b><br><br>color=Hungary<br>line_group=Hungary<br>Time=%{x}<br>Value=%{y}<extra></extra>",
         "hovertext": [
          "Hungary",
          "Hungary",
          "Hungary",
          "Hungary",
          "Hungary",
          "Hungary",
          "Hungary",
          "Hungary",
          "Hungary",
          "Hungary",
          "Hungary",
          "Hungary",
          "Hungary",
          "Hungary",
          "Hungary",
          "Hungary",
          "Hungary",
          "Hungary",
          "Hungary",
          "Hungary",
          "Hungary",
          "Hungary",
          "Hungary",
          "Hungary"
         ],
         "legendgroup": "Hungary",
         "line": {
          "color": "#19d3f3",
          "dash": "solid"
         },
         "mode": "lines",
         "name": "Hungary",
         "showlegend": true,
         "type": "scatter",
         "x": [
          1995,
          1996,
          1997,
          1998,
          1999,
          2000,
          2001,
          2002,
          2003,
          2004,
          2005,
          2006,
          2007,
          2008,
          2009,
          2010,
          2011,
          2012,
          2013,
          2014,
          2015,
          2016,
          2017,
          2018
         ],
         "xaxis": "x",
         "y": [
          -1572.6660000000002,
          -1847.6689999999999,
          -2085.109,
          -3714.3909999999996,
          -4096.157,
          -4187.6759999999995,
          -3298.6420000000003,
          -4301.244000000001,
          -7020.553000000001,
          -9461.244,
          -8126.479,
          -8416.011999999999,
          -10172.74,
          -11155.93,
          -954.1465,
          392.1499,
          835.3893,
          2032.781,
          4680.5070000000005,
          1651.0870000000002,
          2906.703,
          5825.215,
          3318.8140000000003,
          19.01146
         ],
         "yaxis": "y"
        },
        {
         "hovertemplate": "<b>%{hovertext}</b><br><br>color=Finland<br>line_group=Finland<br>Time=%{x}<br>Value=%{y}<extra></extra>",
         "hovertext": [
          "Finland",
          "Finland",
          "Finland",
          "Finland",
          "Finland",
          "Finland",
          "Finland",
          "Finland",
          "Finland",
          "Finland",
          "Finland",
          "Finland",
          "Finland",
          "Finland",
          "Finland",
          "Finland",
          "Finland",
          "Finland",
          "Finland",
          "Finland",
          "Finland",
          "Finland",
          "Finland",
          "Finland"
         ],
         "legendgroup": "Finland",
         "line": {
          "color": "#FF6692",
          "dash": "solid"
         },
         "mode": "lines",
         "name": "Finland",
         "showlegend": true,
         "type": "scatter",
         "x": [
          1995,
          1996,
          1997,
          1998,
          1999,
          2000,
          2001,
          2002,
          2003,
          2004,
          2005,
          2006,
          2007,
          2008,
          2009,
          2010,
          2011,
          2012,
          2013,
          2014,
          2015,
          2016,
          2017,
          2018
         ],
         "xaxis": "x",
         "y": [
          5572.799,
          5095.424,
          6538.467,
          6855.334,
          6996.7609999999995,
          9477.963,
          10425.29,
          11492.89,
          7949.155,
          11382.82,
          6230.275,
          8527.706,
          10312.32,
          7219.485,
          5040.286,
          3709.72,
          -3962.9640000000004,
          -5309.726,
          -4873.24,
          -3659.304,
          -2194.239,
          -4873.482,
          -1929.868,
          -4490.605
         ],
         "yaxis": "y"
        },
        {
         "hovertemplate": "<b>%{hovertext}</b><br><br>color=Greece<br>line_group=Greece<br>Time=%{x}<br>Value=%{y}<extra></extra>",
         "hovertext": [
          "Greece",
          "Greece",
          "Greece",
          "Greece",
          "Greece",
          "Greece",
          "Greece",
          "Greece",
          "Greece",
          "Greece",
          "Greece",
          "Greece",
          "Greece",
          "Greece",
          "Greece",
          "Greece",
          "Greece"
         ],
         "legendgroup": "Greece",
         "line": {
          "color": "#B6E880",
          "dash": "solid"
         },
         "mode": "lines",
         "name": "Greece",
         "showlegend": true,
         "type": "scatter",
         "x": [
          2002,
          2003,
          2004,
          2005,
          2006,
          2007,
          2008,
          2009,
          2010,
          2011,
          2012,
          2013,
          2014,
          2015,
          2016,
          2017,
          2018
         ],
         "xaxis": "x",
         "y": [
          -10522.45,
          -17080.46,
          -18557.22,
          -21965.66,
          -31409.67,
          -48380.16,
          -53467.75,
          -40741.85,
          -29999.6,
          -24792.86,
          -8562.914,
          -3435.5609999999997,
          -1751.371,
          -1594.095,
          -3372.844,
          -3839.446,
          -6173.55
         ],
         "yaxis": "y"
        },
        {
         "hovertemplate": "<b>%{hovertext}</b><br><br>color=Norway<br>line_group=Norway<br>Time=%{x}<br>Value=%{y}<extra></extra>",
         "hovertext": [
          "Norway",
          "Norway",
          "Norway",
          "Norway",
          "Norway",
          "Norway",
          "Norway",
          "Norway",
          "Norway",
          "Norway",
          "Norway",
          "Norway",
          "Norway",
          "Norway",
          "Norway",
          "Norway",
          "Norway",
          "Norway",
          "Norway",
          "Norway",
          "Norway",
          "Norway",
          "Norway",
          "Norway",
          "Norway",
          "Norway",
          "Norway",
          "Norway",
          "Norway"
         ],
         "legendgroup": "Norway",
         "line": {
          "color": "#FF97FF",
          "dash": "solid"
         },
         "mode": "lines",
         "name": "Norway",
         "showlegend": true,
         "type": "scatter",
         "x": [
          1990,
          1991,
          1992,
          1993,
          1994,
          1995,
          1996,
          1997,
          1998,
          1999,
          2000,
          2001,
          2002,
          2003,
          2004,
          2005,
          2006,
          2007,
          2008,
          2009,
          2010,
          2011,
          2012,
          2013,
          2014,
          2015,
          2016,
          2017,
          2018
         ],
         "xaxis": "x",
         "y": [
          2943.4640000000004,
          4381.599,
          4469.884,
          3521.7859999999996,
          3736.531,
          5316.085999999999,
          10991.11,
          9939.035,
          -475.7961,
          8918.669,
          25279.86,
          27538.51,
          24084.49,
          27582.94,
          32734.56,
          50845.11,
          56418.77,
          49816.9,
          73027.84,
          41543.85,
          47306.73,
          62386.89,
          63386.76,
          53468.38,
          54906.41,
          30855.3,
          14828.89,
          18615.14,
          31010.13
         ],
         "yaxis": "y"
        },
        {
         "hovertemplate": "<b>%{hovertext}</b><br><br>color=Denmark<br>line_group=Denmark<br>Time=%{x}<br>Value=%{y}<extra></extra>",
         "hovertext": [
          "Denmark",
          "Denmark",
          "Denmark",
          "Denmark",
          "Denmark",
          "Denmark",
          "Denmark",
          "Denmark",
          "Denmark",
          "Denmark",
          "Denmark",
          "Denmark",
          "Denmark",
          "Denmark"
         ],
         "legendgroup": "Denmark",
         "line": {
          "color": "#FECB52",
          "dash": "solid"
         },
         "mode": "lines",
         "name": "Denmark",
         "showlegend": true,
         "type": "scatter",
         "x": [
          2005,
          2006,
          2007,
          2008,
          2009,
          2010,
          2011,
          2012,
          2013,
          2014,
          2015,
          2016,
          2017,
          2018
         ],
         "xaxis": "x",
         "y": [
          11088.55,
          9411.56,
          4622.107,
          10306.05,
          11135.54,
          21140.37,
          22705,
          20558.58,
          26651.76,
          31467.09,
          24964.43,
          24343.82,
          25549.57,
          25004.84
         ],
         "yaxis": "y"
        },
        {
         "hovertemplate": "<b>%{hovertext}</b><br><br>color=Spain<br>line_group=Spain<br>Time=%{x}<br>Value=%{y}<extra></extra>",
         "hovertext": [
          "Spain",
          "Spain",
          "Spain",
          "Spain",
          "Spain",
          "Spain",
          "Spain",
          "Spain",
          "Spain",
          "Spain",
          "Spain",
          "Spain",
          "Spain",
          "Spain",
          "Spain",
          "Spain",
          "Spain",
          "Spain",
          "Spain",
          "Spain",
          "Spain",
          "Spain",
          "Spain",
          "Spain",
          "Spain",
          "Spain"
         ],
         "legendgroup": "Spain",
         "line": {
          "color": "#636efa",
          "dash": "solid"
         },
         "mode": "lines",
         "name": "Spain",
         "showlegend": true,
         "type": "scatter",
         "x": [
          1993,
          1994,
          1995,
          1996,
          1997,
          1998,
          1999,
          2000,
          2001,
          2002,
          2003,
          2004,
          2005,
          2006,
          2007,
          2008,
          2009,
          2010,
          2011,
          2012,
          2013,
          2014,
          2015,
          2016,
          2017,
          2018
         ],
         "xaxis": "x",
         "y": [
          -10783.99,
          -11552.33,
          -7671.717,
          -5496.255,
          -4276.354,
          -10412.28,
          -20560.16,
          -25732.28,
          -27468.34,
          -26348.05,
          -35195.77,
          -58537.98,
          -83609.72,
          -111524.2,
          -138877.5,
          -144423.3,
          -60734.89,
          -51936.08,
          -40285.96,
          1137.5230000000001,
          27613.25,
          23270.68,
          24215.39,
          39113.93,
          35039.73,
          27479.44
         ],
         "yaxis": "y"
        },
        {
         "hovertemplate": "<b>%{hovertext}</b><br><br>color=Poland<br>line_group=Poland<br>Time=%{x}<br>Value=%{y}<extra></extra>",
         "hovertext": [
          "Poland",
          "Poland",
          "Poland",
          "Poland",
          "Poland",
          "Poland",
          "Poland",
          "Poland",
          "Poland",
          "Poland",
          "Poland",
          "Poland",
          "Poland",
          "Poland",
          "Poland"
         ],
         "legendgroup": "Poland",
         "line": {
          "color": "#EF553B",
          "dash": "solid"
         },
         "mode": "lines",
         "name": "Poland",
         "showlegend": true,
         "type": "scatter",
         "x": [
          2004,
          2005,
          2006,
          2007,
          2008,
          2009,
          2010,
          2011,
          2012,
          2013,
          2014,
          2015,
          2016,
          2017,
          2018
         ],
         "xaxis": "x",
         "y": [
          -13954.22,
          -7976.422,
          -13772.62,
          -27181.71,
          -35594.15,
          -17398.4,
          -25768,
          -27478.12,
          -18566.1,
          -6619.981,
          -11265.38,
          -2679.937,
          -2449.223,
          378.6387,
          -6011.795999999999
         ],
         "yaxis": "y"
        },
        {
         "hovertemplate": "<b>%{hovertext}</b><br><br>color=Turkey<br>line_group=Turkey<br>Time=%{x}<br>Value=%{y}<extra></extra>",
         "hovertext": [
          "Turkey",
          "Turkey",
          "Turkey",
          "Turkey",
          "Turkey",
          "Turkey",
          "Turkey",
          "Turkey",
          "Turkey",
          "Turkey",
          "Turkey",
          "Turkey",
          "Turkey",
          "Turkey",
          "Turkey",
          "Turkey",
          "Turkey",
          "Turkey",
          "Turkey",
          "Turkey",
          "Turkey",
          "Turkey",
          "Turkey",
          "Turkey",
          "Turkey",
          "Turkey",
          "Turkey"
         ],
         "legendgroup": "Turkey",
         "line": {
          "color": "#00cc96",
          "dash": "solid"
         },
         "mode": "lines",
         "name": "Turkey",
         "showlegend": true,
         "type": "scatter",
         "x": [
          1992,
          1993,
          1994,
          1995,
          1996,
          1997,
          1998,
          1999,
          2000,
          2001,
          2002,
          2003,
          2004,
          2005,
          2006,
          2007,
          2008,
          2009,
          2010,
          2011,
          2012,
          2013,
          2014,
          2015,
          2016,
          2017,
          2018
         ],
         "xaxis": "x",
         "y": [
          -974,
          -6433,
          2631,
          -2339,
          -2437,
          -2638,
          2000,
          -925,
          -9920,
          3760,
          -626,
          -7554,
          -14198,
          -20980,
          -31089,
          -36795,
          -39297,
          -11167,
          -44460,
          -74234,
          -47966.7,
          -63646.24,
          -43644.71,
          -32179.9,
          -26841.91,
          -40590.93,
          -20768.52
         ],
         "yaxis": "y"
        },
        {
         "hovertemplate": "<b>%{hovertext}</b><br><br>color=Sweden<br>line_group=Sweden<br>Time=%{x}<br>Value=%{y}<extra></extra>",
         "hovertext": [
          "Sweden",
          "Sweden",
          "Sweden",
          "Sweden",
          "Sweden",
          "Sweden",
          "Sweden",
          "Sweden",
          "Sweden",
          "Sweden",
          "Sweden",
          "Sweden",
          "Sweden",
          "Sweden",
          "Sweden",
          "Sweden",
          "Sweden",
          "Sweden",
          "Sweden",
          "Sweden",
          "Sweden",
          "Sweden",
          "Sweden",
          "Sweden",
          "Sweden",
          "Sweden",
          "Sweden",
          "Sweden",
          "Sweden"
         ],
         "legendgroup": "Sweden",
         "line": {
          "color": "#ab63fa",
          "dash": "solid"
         },
         "mode": "lines",
         "name": "Sweden",
         "showlegend": true,
         "type": "scatter",
         "x": [
          1990,
          1991,
          1992,
          1993,
          1994,
          1995,
          1996,
          1997,
          1998,
          1999,
          2000,
          2001,
          2002,
          2003,
          2004,
          2005,
          2006,
          2007,
          2008,
          2009,
          2010,
          2011,
          2012,
          2013,
          2014,
          2015,
          2016,
          2017,
          2018
         ],
         "xaxis": "x",
         "y": [
          -6244.794,
          -4699.722,
          -7372.1140000000005,
          -2593.688,
          2363.88,
          8425.878,
          9627.737,
          10327.17,
          9706.712,
          10655.21,
          10298.13,
          11361.55,
          11853.67,
          19524.96,
          22933.99,
          23542.95,
          34461.74,
          39875.82,
          40273.42,
          25929.47,
          29142.66,
          31389.6,
          30414.68,
          30290.32,
          26101.19,
          20718.27,
          18255.34,
          16596.52,
          9736.362
         ],
         "yaxis": "y"
        }
       ],
       "layout": {
        "legend": {
         "title": {
          "text": "color"
         },
         "tracegroupgap": 0
        },
        "margin": {
         "t": 60
        },
        "showlegend": false,
        "template": {
         "data": {
          "bar": [
           {
            "error_x": {
             "color": "#2a3f5f"
            },
            "error_y": {
             "color": "#2a3f5f"
            },
            "marker": {
             "line": {
              "color": "#E5ECF6",
              "width": 0.5
             }
            },
            "type": "bar"
           }
          ],
          "barpolar": [
           {
            "marker": {
             "line": {
              "color": "#E5ECF6",
              "width": 0.5
             }
            },
            "type": "barpolar"
           }
          ],
          "carpet": [
           {
            "aaxis": {
             "endlinecolor": "#2a3f5f",
             "gridcolor": "white",
             "linecolor": "white",
             "minorgridcolor": "white",
             "startlinecolor": "#2a3f5f"
            },
            "baxis": {
             "endlinecolor": "#2a3f5f",
             "gridcolor": "white",
             "linecolor": "white",
             "minorgridcolor": "white",
             "startlinecolor": "#2a3f5f"
            },
            "type": "carpet"
           }
          ],
          "choropleth": [
           {
            "colorbar": {
             "outlinewidth": 0,
             "ticks": ""
            },
            "type": "choropleth"
           }
          ],
          "contour": [
           {
            "colorbar": {
             "outlinewidth": 0,
             "ticks": ""
            },
            "colorscale": [
             [
              0,
              "#0d0887"
             ],
             [
              0.1111111111111111,
              "#46039f"
             ],
             [
              0.2222222222222222,
              "#7201a8"
             ],
             [
              0.3333333333333333,
              "#9c179e"
             ],
             [
              0.4444444444444444,
              "#bd3786"
             ],
             [
              0.5555555555555556,
              "#d8576b"
             ],
             [
              0.6666666666666666,
              "#ed7953"
             ],
             [
              0.7777777777777778,
              "#fb9f3a"
             ],
             [
              0.8888888888888888,
              "#fdca26"
             ],
             [
              1,
              "#f0f921"
             ]
            ],
            "type": "contour"
           }
          ],
          "contourcarpet": [
           {
            "colorbar": {
             "outlinewidth": 0,
             "ticks": ""
            },
            "type": "contourcarpet"
           }
          ],
          "heatmap": [
           {
            "colorbar": {
             "outlinewidth": 0,
             "ticks": ""
            },
            "colorscale": [
             [
              0,
              "#0d0887"
             ],
             [
              0.1111111111111111,
              "#46039f"
             ],
             [
              0.2222222222222222,
              "#7201a8"
             ],
             [
              0.3333333333333333,
              "#9c179e"
             ],
             [
              0.4444444444444444,
              "#bd3786"
             ],
             [
              0.5555555555555556,
              "#d8576b"
             ],
             [
              0.6666666666666666,
              "#ed7953"
             ],
             [
              0.7777777777777778,
              "#fb9f3a"
             ],
             [
              0.8888888888888888,
              "#fdca26"
             ],
             [
              1,
              "#f0f921"
             ]
            ],
            "type": "heatmap"
           }
          ],
          "heatmapgl": [
           {
            "colorbar": {
             "outlinewidth": 0,
             "ticks": ""
            },
            "colorscale": [
             [
              0,
              "#0d0887"
             ],
             [
              0.1111111111111111,
              "#46039f"
             ],
             [
              0.2222222222222222,
              "#7201a8"
             ],
             [
              0.3333333333333333,
              "#9c179e"
             ],
             [
              0.4444444444444444,
              "#bd3786"
             ],
             [
              0.5555555555555556,
              "#d8576b"
             ],
             [
              0.6666666666666666,
              "#ed7953"
             ],
             [
              0.7777777777777778,
              "#fb9f3a"
             ],
             [
              0.8888888888888888,
              "#fdca26"
             ],
             [
              1,
              "#f0f921"
             ]
            ],
            "type": "heatmapgl"
           }
          ],
          "histogram": [
           {
            "marker": {
             "colorbar": {
              "outlinewidth": 0,
              "ticks": ""
             }
            },
            "type": "histogram"
           }
          ],
          "histogram2d": [
           {
            "colorbar": {
             "outlinewidth": 0,
             "ticks": ""
            },
            "colorscale": [
             [
              0,
              "#0d0887"
             ],
             [
              0.1111111111111111,
              "#46039f"
             ],
             [
              0.2222222222222222,
              "#7201a8"
             ],
             [
              0.3333333333333333,
              "#9c179e"
             ],
             [
              0.4444444444444444,
              "#bd3786"
             ],
             [
              0.5555555555555556,
              "#d8576b"
             ],
             [
              0.6666666666666666,
              "#ed7953"
             ],
             [
              0.7777777777777778,
              "#fb9f3a"
             ],
             [
              0.8888888888888888,
              "#fdca26"
             ],
             [
              1,
              "#f0f921"
             ]
            ],
            "type": "histogram2d"
           }
          ],
          "histogram2dcontour": [
           {
            "colorbar": {
             "outlinewidth": 0,
             "ticks": ""
            },
            "colorscale": [
             [
              0,
              "#0d0887"
             ],
             [
              0.1111111111111111,
              "#46039f"
             ],
             [
              0.2222222222222222,
              "#7201a8"
             ],
             [
              0.3333333333333333,
              "#9c179e"
             ],
             [
              0.4444444444444444,
              "#bd3786"
             ],
             [
              0.5555555555555556,
              "#d8576b"
             ],
             [
              0.6666666666666666,
              "#ed7953"
             ],
             [
              0.7777777777777778,
              "#fb9f3a"
             ],
             [
              0.8888888888888888,
              "#fdca26"
             ],
             [
              1,
              "#f0f921"
             ]
            ],
            "type": "histogram2dcontour"
           }
          ],
          "mesh3d": [
           {
            "colorbar": {
             "outlinewidth": 0,
             "ticks": ""
            },
            "type": "mesh3d"
           }
          ],
          "parcoords": [
           {
            "line": {
             "colorbar": {
              "outlinewidth": 0,
              "ticks": ""
             }
            },
            "type": "parcoords"
           }
          ],
          "pie": [
           {
            "automargin": true,
            "type": "pie"
           }
          ],
          "scatter": [
           {
            "marker": {
             "colorbar": {
              "outlinewidth": 0,
              "ticks": ""
             }
            },
            "type": "scatter"
           }
          ],
          "scatter3d": [
           {
            "line": {
             "colorbar": {
              "outlinewidth": 0,
              "ticks": ""
             }
            },
            "marker": {
             "colorbar": {
              "outlinewidth": 0,
              "ticks": ""
             }
            },
            "type": "scatter3d"
           }
          ],
          "scattercarpet": [
           {
            "marker": {
             "colorbar": {
              "outlinewidth": 0,
              "ticks": ""
             }
            },
            "type": "scattercarpet"
           }
          ],
          "scattergeo": [
           {
            "marker": {
             "colorbar": {
              "outlinewidth": 0,
              "ticks": ""
             }
            },
            "type": "scattergeo"
           }
          ],
          "scattergl": [
           {
            "marker": {
             "colorbar": {
              "outlinewidth": 0,
              "ticks": ""
             }
            },
            "type": "scattergl"
           }
          ],
          "scattermapbox": [
           {
            "marker": {
             "colorbar": {
              "outlinewidth": 0,
              "ticks": ""
             }
            },
            "type": "scattermapbox"
           }
          ],
          "scatterpolar": [
           {
            "marker": {
             "colorbar": {
              "outlinewidth": 0,
              "ticks": ""
             }
            },
            "type": "scatterpolar"
           }
          ],
          "scatterpolargl": [
           {
            "marker": {
             "colorbar": {
              "outlinewidth": 0,
              "ticks": ""
             }
            },
            "type": "scatterpolargl"
           }
          ],
          "scatterternary": [
           {
            "marker": {
             "colorbar": {
              "outlinewidth": 0,
              "ticks": ""
             }
            },
            "type": "scatterternary"
           }
          ],
          "surface": [
           {
            "colorbar": {
             "outlinewidth": 0,
             "ticks": ""
            },
            "colorscale": [
             [
              0,
              "#0d0887"
             ],
             [
              0.1111111111111111,
              "#46039f"
             ],
             [
              0.2222222222222222,
              "#7201a8"
             ],
             [
              0.3333333333333333,
              "#9c179e"
             ],
             [
              0.4444444444444444,
              "#bd3786"
             ],
             [
              0.5555555555555556,
              "#d8576b"
             ],
             [
              0.6666666666666666,
              "#ed7953"
             ],
             [
              0.7777777777777778,
              "#fb9f3a"
             ],
             [
              0.8888888888888888,
              "#fdca26"
             ],
             [
              1,
              "#f0f921"
             ]
            ],
            "type": "surface"
           }
          ],
          "table": [
           {
            "cells": {
             "fill": {
              "color": "#EBF0F8"
             },
             "line": {
              "color": "white"
             }
            },
            "header": {
             "fill": {
              "color": "#C8D4E3"
             },
             "line": {
              "color": "white"
             }
            },
            "type": "table"
           }
          ]
         },
         "layout": {
          "annotationdefaults": {
           "arrowcolor": "#2a3f5f",
           "arrowhead": 0,
           "arrowwidth": 1
          },
          "coloraxis": {
           "colorbar": {
            "outlinewidth": 0,
            "ticks": ""
           }
          },
          "colorscale": {
           "diverging": [
            [
             0,
             "#8e0152"
            ],
            [
             0.1,
             "#c51b7d"
            ],
            [
             0.2,
             "#de77ae"
            ],
            [
             0.3,
             "#f1b6da"
            ],
            [
             0.4,
             "#fde0ef"
            ],
            [
             0.5,
             "#f7f7f7"
            ],
            [
             0.6,
             "#e6f5d0"
            ],
            [
             0.7,
             "#b8e186"
            ],
            [
             0.8,
             "#7fbc41"
            ],
            [
             0.9,
             "#4d9221"
            ],
            [
             1,
             "#276419"
            ]
           ],
           "sequential": [
            [
             0,
             "#0d0887"
            ],
            [
             0.1111111111111111,
             "#46039f"
            ],
            [
             0.2222222222222222,
             "#7201a8"
            ],
            [
             0.3333333333333333,
             "#9c179e"
            ],
            [
             0.4444444444444444,
             "#bd3786"
            ],
            [
             0.5555555555555556,
             "#d8576b"
            ],
            [
             0.6666666666666666,
             "#ed7953"
            ],
            [
             0.7777777777777778,
             "#fb9f3a"
            ],
            [
             0.8888888888888888,
             "#fdca26"
            ],
            [
             1,
             "#f0f921"
            ]
           ],
           "sequentialminus": [
            [
             0,
             "#0d0887"
            ],
            [
             0.1111111111111111,
             "#46039f"
            ],
            [
             0.2222222222222222,
             "#7201a8"
            ],
            [
             0.3333333333333333,
             "#9c179e"
            ],
            [
             0.4444444444444444,
             "#bd3786"
            ],
            [
             0.5555555555555556,
             "#d8576b"
            ],
            [
             0.6666666666666666,
             "#ed7953"
            ],
            [
             0.7777777777777778,
             "#fb9f3a"
            ],
            [
             0.8888888888888888,
             "#fdca26"
            ],
            [
             1,
             "#f0f921"
            ]
           ]
          },
          "colorway": [
           "#636efa",
           "#EF553B",
           "#00cc96",
           "#ab63fa",
           "#FFA15A",
           "#19d3f3",
           "#FF6692",
           "#B6E880",
           "#FF97FF",
           "#FECB52"
          ],
          "font": {
           "color": "#2a3f5f"
          },
          "geo": {
           "bgcolor": "white",
           "lakecolor": "white",
           "landcolor": "#E5ECF6",
           "showlakes": true,
           "showland": true,
           "subunitcolor": "white"
          },
          "hoverlabel": {
           "align": "left"
          },
          "hovermode": "closest",
          "mapbox": {
           "style": "light"
          },
          "paper_bgcolor": "white",
          "plot_bgcolor": "#E5ECF6",
          "polar": {
           "angularaxis": {
            "gridcolor": "white",
            "linecolor": "white",
            "ticks": ""
           },
           "bgcolor": "#E5ECF6",
           "radialaxis": {
            "gridcolor": "white",
            "linecolor": "white",
            "ticks": ""
           }
          },
          "scene": {
           "xaxis": {
            "backgroundcolor": "#E5ECF6",
            "gridcolor": "white",
            "gridwidth": 2,
            "linecolor": "white",
            "showbackground": true,
            "ticks": "",
            "zerolinecolor": "white"
           },
           "yaxis": {
            "backgroundcolor": "#E5ECF6",
            "gridcolor": "white",
            "gridwidth": 2,
            "linecolor": "white",
            "showbackground": true,
            "ticks": "",
            "zerolinecolor": "white"
           },
           "zaxis": {
            "backgroundcolor": "#E5ECF6",
            "gridcolor": "white",
            "gridwidth": 2,
            "linecolor": "white",
            "showbackground": true,
            "ticks": "",
            "zerolinecolor": "white"
           }
          },
          "shapedefaults": {
           "line": {
            "color": "#2a3f5f"
           }
          },
          "ternary": {
           "aaxis": {
            "gridcolor": "white",
            "linecolor": "white",
            "ticks": ""
           },
           "baxis": {
            "gridcolor": "white",
            "linecolor": "white",
            "ticks": ""
           },
           "bgcolor": "#E5ECF6",
           "caxis": {
            "gridcolor": "white",
            "linecolor": "white",
            "ticks": ""
           }
          },
          "title": {
           "x": 0.05
          },
          "xaxis": {
           "automargin": true,
           "gridcolor": "white",
           "linecolor": "white",
           "ticks": "",
           "title": {
            "standoff": 15
           },
           "zerolinecolor": "white",
           "zerolinewidth": 2
          },
          "yaxis": {
           "automargin": true,
           "gridcolor": "white",
           "linecolor": "white",
           "ticks": "",
           "title": {
            "standoff": 15
           },
           "zerolinecolor": "white",
           "zerolinewidth": 2
          }
         }
        },
        "title": {
         "text": "Current account-balance, Europe"
        },
        "xaxis": {
         "anchor": "y",
         "domain": [
          0,
          1
         ],
         "title": {
          "text": "Time"
         }
        },
        "yaxis": {
         "anchor": "x",
         "domain": [
          0,
          1
         ],
         "title": {
          "text": "Value"
         }
        }
       }
      },
      "text/html": [
       "<div>\n",
       "        \n",
       "        \n",
       "            <div id=\"d498b2a4-91d2-429b-a8eb-5530606b955a\" class=\"plotly-graph-div\" style=\"height:525px; width:100%;\"></div>\n",
       "            <script type=\"text/javascript\">\n",
       "                require([\"plotly\"], function(Plotly) {\n",
       "                    window.PLOTLYENV=window.PLOTLYENV || {};\n",
       "                    \n",
       "                if (document.getElementById(\"d498b2a4-91d2-429b-a8eb-5530606b955a\")) {\n",
       "                    Plotly.newPlot(\n",
       "                        'd498b2a4-91d2-429b-a8eb-5530606b955a',\n",
       "                        [{\"hovertemplate\": \"<b>%{hovertext}</b><br><br>color=Switzerland<br>line_group=Switzerland<br>Time=%{x}<br>Value=%{y}<extra></extra>\", \"hovertext\": [\"Switzerland\", \"Switzerland\", \"Switzerland\", \"Switzerland\", \"Switzerland\", \"Switzerland\", \"Switzerland\", \"Switzerland\", \"Switzerland\", \"Switzerland\", \"Switzerland\", \"Switzerland\", \"Switzerland\", \"Switzerland\", \"Switzerland\", \"Switzerland\", \"Switzerland\", \"Switzerland\", \"Switzerland\"], \"legendgroup\": \"Switzerland\", \"line\": {\"color\": \"#636efa\", \"dash\": \"solid\"}, \"mode\": \"lines\", \"name\": \"Switzerland\", \"showlegend\": true, \"type\": \"scatter\", \"x\": [2000, 2001, 2002, 2003, 2004, 2005, 2006, 2007, 2008, 2009, 2010, 2011, 2012, 2013, 2014, 2015, 2016, 2017, 2018], \"xaxis\": \"x\", \"y\": [32540.25, 22578.54, 25143.72, 44543.38, 57722.68, 54797.15, 61574.68, 48247.96, 12715.57, 39634.14, 85473.93, 54773.72, 71358.99, 79883.72, 61218.96, 76539.85, 66151.25, 43617.34, 57938.48], \"yaxis\": \"y\"}, {\"hovertemplate\": \"<b>%{hovertext}</b><br><br>color=New Zealand<br>line_group=New Zealand<br>Time=%{x}<br>Value=%{y}<extra></extra>\", \"hovertext\": [\"New Zealand\", \"New Zealand\", \"New Zealand\", \"New Zealand\", \"New Zealand\", \"New Zealand\", \"New Zealand\", \"New Zealand\", \"New Zealand\", \"New Zealand\", \"New Zealand\", \"New Zealand\", \"New Zealand\", \"New Zealand\", \"New Zealand\", \"New Zealand\", \"New Zealand\", \"New Zealand\", \"New Zealand\", \"New Zealand\", \"New Zealand\", \"New Zealand\", \"New Zealand\", \"New Zealand\", \"New Zealand\", \"New Zealand\", \"New Zealand\", \"New Zealand\", \"New Zealand\"], \"legendgroup\": \"New Zealand\", \"line\": {\"color\": \"#EF553B\", \"dash\": \"solid\"}, \"mode\": \"lines\", \"name\": \"New Zealand\", \"showlegend\": true, \"type\": \"scatter\", \"x\": [1990, 1991, 1992, 1993, 1994, 1995, 1996, 1997, 1998, 1999, 2000, 2001, 2002, 2003, 2004, 2005, 2006, 2007, 2008, 2009, 2010, 2011, 2012, 2013, 2014, 2015, 2016, 2017, 2018], \"xaxis\": \"x\", \"y\": [-1275.7730000000001, -1030.193, -1512.624, -1505.1589999999999, -1651.316, -2429.761, -3281.423, -3625.6009999999997, -1503.3310000000001, -2854.744, -1781.9089999999999, -431.7536, -1335.148, -2014.418, -4657.693, -7997.33, -7857.414000000001, -9146.826, -10442.56, -2763.8559999999998, -3311.058, -4685.917, -6867.644, -5760.468000000001, -6194.738, -4783.082, -3797.3720000000003, -5435.948, -7850.706999999999], \"yaxis\": \"y\"}, {\"hovertemplate\": \"<b>%{hovertext}</b><br><br>color=Estonia<br>line_group=Estonia<br>Time=%{x}<br>Value=%{y}<extra></extra>\", \"hovertext\": [\"Estonia\", \"Estonia\", \"Estonia\", \"Estonia\", \"Estonia\", \"Estonia\", \"Estonia\", \"Estonia\", \"Estonia\", \"Estonia\", \"Estonia\", \"Estonia\", \"Estonia\", \"Estonia\", \"Estonia\", \"Estonia\", \"Estonia\", \"Estonia\", \"Estonia\", \"Estonia\", \"Estonia\", \"Estonia\", \"Estonia\", \"Estonia\", \"Estonia\", \"Estonia\"], \"legendgroup\": \"Estonia\", \"line\": {\"color\": \"#00cc96\", \"dash\": \"solid\"}, \"mode\": \"lines\", \"name\": \"Estonia\", \"showlegend\": true, \"type\": \"scatter\", \"x\": [1993, 1994, 1995, 1996, 1997, 1998, 1999, 2000, 2001, 2002, 2003, 2004, 2005, 2006, 2007, 2008, 2009, 2010, 2011, 2012, 2013, 2014, 2015, 2016, 2017, 2018], \"xaxis\": \"x\", \"y\": [22.482870000000002, -166.2065, -157.6295, -399.8084, -562.6656, -480.4704, -245.9309, -307.8857, -444.1152, -815.4004, -1270.797, -1448.067, -1223.997, -2542.397, -3335.17, -2104.757, 500.9173, 348.3984, 305.0787, -436.88599999999997, 73.27781, 190.3953, 405.9008, 397.2214, 716.4861, 609.6838], \"yaxis\": \"y\"}, {\"hovertemplate\": \"<b>%{hovertext}</b><br><br>color=Austria<br>line_group=Austria<br>Time=%{x}<br>Value=%{y}<extra></extra>\", \"hovertext\": [\"Austria\", \"Austria\", \"Austria\", \"Austria\", \"Austria\", \"Austria\", \"Austria\", \"Austria\", \"Austria\", \"Austria\", \"Austria\", \"Austria\", \"Austria\", \"Austria\", \"Austria\", \"Austria\", \"Austria\", \"Austria\", \"Austria\", \"Austria\", \"Austria\", \"Austria\", \"Austria\", \"Austria\"], \"legendgroup\": \"Austria\", \"line\": {\"color\": \"#ab63fa\", \"dash\": \"solid\"}, \"mode\": \"lines\", \"name\": \"Austria\", \"showlegend\": true, \"type\": \"scatter\", \"x\": [1995, 1996, 1997, 1998, 1999, 2000, 2001, 2002, 2003, 2004, 2005, 2006, 2007, 2008, 2009, 2010, 2011, 2012, 2013, 2014, 2015, 2016, 2017, 2018], \"xaxis\": \"x\", \"y\": [-6891.689, -6736.545, -5417.419, -4076.1259999999997, -4909.634, -1393.425, -1571.692, 4490.771, 4051.23, 6249.518, 7130.079000000001, 11074.47, 14781.95, 19282.66, 10391.77, 11188.76, 7033.218000000001, 6071.931, 8351.28, 10934.13, 6589.371999999999, 10772.09, 6477.233, 10602.79], \"yaxis\": \"y\"}, {\"hovertemplate\": \"<b>%{hovertext}</b><br><br>color=Italy<br>line_group=Italy<br>Time=%{x}<br>Value=%{y}<extra></extra>\", \"hovertext\": [\"Italy\", \"Italy\", \"Italy\", \"Italy\", \"Italy\", \"Italy\", \"Italy\", \"Italy\", \"Italy\", \"Italy\", \"Italy\", \"Italy\", \"Italy\", \"Italy\", \"Italy\", \"Italy\", \"Italy\", \"Italy\", \"Italy\", \"Italy\", \"Italy\", \"Italy\", \"Italy\", \"Italy\"], \"legendgroup\": \"Italy\", \"line\": {\"color\": \"#FFA15A\", \"dash\": \"solid\"}, \"mode\": \"lines\", \"name\": \"Italy\", \"showlegend\": true, \"type\": \"scatter\", \"x\": [1995, 1996, 1997, 1998, 1999, 2000, 2001, 2002, 2003, 2004, 2005, 2006, 2007, 2008, 2009, 2010, 2011, 2012, 2013, 2014, 2015, 2016, 2017, 2018], \"xaxis\": \"x\", \"y\": [28079.47, 43200.3, 36704.45, 26028.88, 10032.36, -3119.54, 1805.431, -6335.144, -12406.75, -8693.415, -16397.81, -28765.01, -30226.48, -66908.16, -41305.89, -70309.85, -64764.56, -4814.872, 23732.98, 41005.97, 26099.02, 48651.88, 50403.16, 51954.12], \"yaxis\": \"y\"}, {\"hovertemplate\": \"<b>%{hovertext}</b><br><br>color=Czech Republic<br>line_group=Czech Republic<br>Time=%{x}<br>Value=%{y}<extra></extra>\", \"hovertext\": [\"Czech Republic\", \"Czech Republic\", \"Czech Republic\", \"Czech Republic\", \"Czech Republic\", \"Czech Republic\", \"Czech Republic\", \"Czech Republic\", \"Czech Republic\", \"Czech Republic\", \"Czech Republic\", \"Czech Republic\", \"Czech Republic\", \"Czech Republic\", \"Czech Republic\", \"Czech Republic\", \"Czech Republic\", \"Czech Republic\", \"Czech Republic\", \"Czech Republic\", \"Czech Republic\", \"Czech Republic\", \"Czech Republic\", \"Czech Republic\", \"Czech Republic\", \"Czech Republic\"], \"legendgroup\": \"Czech Republic\", \"line\": {\"color\": \"#19d3f3\", \"dash\": \"solid\"}, \"mode\": \"lines\", \"name\": \"Czech Republic\", \"showlegend\": true, \"type\": \"scatter\", \"x\": [1993, 1994, 1995, 1996, 1997, 1998, 1999, 2000, 2001, 2002, 2003, 2004, 2005, 2006, 2007, 2008, 2009, 2010, 2011, 2012, 2013, 2014, 2015, 2016, 2017, 2018], \"xaxis\": \"x\", \"y\": [455.7159, -786.5465, -1369.023, -4120.5, -3565.252, -1254.401, -1462.862, -2714.395, -3273.2659999999996, -4166.371, -5693.969, -4452.885, -2869.3920000000003, -3835.6859999999997, -8729.523000000001, -4406.522, -4682.413, -7430.8, -4798.433, -3240.455, -1113.623, 379.7132, 458.7488, 3036.75, 3568.84, 1041.151], \"yaxis\": \"y\"}, {\"hovertemplate\": \"<b>%{hovertext}</b><br><br>color=Slovak Republic<br>line_group=Slovak Republic<br>Time=%{x}<br>Value=%{y}<extra></extra>\", \"hovertext\": [\"Slovak Republic\", \"Slovak Republic\", \"Slovak Republic\", \"Slovak Republic\", \"Slovak Republic\", \"Slovak Republic\", \"Slovak Republic\", \"Slovak Republic\", \"Slovak Republic\", \"Slovak Republic\", \"Slovak Republic\", \"Slovak Republic\", \"Slovak Republic\", \"Slovak Republic\", \"Slovak Republic\"], \"legendgroup\": \"Slovak Republic\", \"line\": {\"color\": \"#FF6692\", \"dash\": \"solid\"}, \"mode\": \"lines\", \"name\": \"Slovak Republic\", \"showlegend\": true, \"type\": \"scatter\", \"x\": [2004, 2005, 2006, 2007, 2008, 2009, 2010, 2011, 2012, 2013, 2014, 2015, 2016, 2017, 2018], \"xaxis\": \"x\", \"y\": [-3286.15, -4058.595, -4374.457, -4028.905, -6010.979, -3066.2670000000003, -4216.181, -4862.487, 878.6563, 1830.618, 1155.109, -1851.125, -2456.425, -1824.131, -2797.63], \"yaxis\": \"y\"}, {\"hovertemplate\": \"<b>%{hovertext}</b><br><br>color=France<br>line_group=France<br>Time=%{x}<br>Value=%{y}<extra></extra>\", \"hovertext\": [\"France\", \"France\", \"France\", \"France\", \"France\", \"France\", \"France\", \"France\", \"France\", \"France\", \"France\", \"France\", \"France\", \"France\", \"France\", \"France\", \"France\", \"France\", \"France\", \"France\"], \"legendgroup\": \"France\", \"line\": {\"color\": \"#B6E880\", \"dash\": \"solid\"}, \"mode\": \"lines\", \"name\": \"France\", \"showlegend\": true, \"type\": \"scatter\", \"x\": [1999, 2000, 2001, 2002, 2003, 2004, 2005, 2006, 2007, 2008, 2009, 2010, 2011, 2012, 2013, 2014, 2015, 2016, 2017, 2018], \"xaxis\": \"x\", \"y\": [50793.61, 14982.08, 21694.72, 17180.85, 15397.16, 11278.95, 2281.824, 5874.251, -2707.788, -20282.69, -14794.38, -16614.94, -24599.58, -25902.11, -14332.98, -27270.97, -8976.633, -12017.28, -18483.67, -17864.47], \"yaxis\": \"y\"}, {\"hovertemplate\": \"<b>%{hovertext}</b><br><br>color=Portugal<br>line_group=Portugal<br>Time=%{x}<br>Value=%{y}<extra></extra>\", \"hovertext\": [\"Portugal\", \"Portugal\", \"Portugal\", \"Portugal\", \"Portugal\", \"Portugal\", \"Portugal\", \"Portugal\", \"Portugal\", \"Portugal\", \"Portugal\", \"Portugal\", \"Portugal\", \"Portugal\", \"Portugal\", \"Portugal\", \"Portugal\", \"Portugal\", \"Portugal\", \"Portugal\", \"Portugal\", \"Portugal\", \"Portugal\"], \"legendgroup\": \"Portugal\", \"line\": {\"color\": \"#FF97FF\", \"dash\": \"solid\"}, \"mode\": \"lines\", \"name\": \"Portugal\", \"showlegend\": true, \"type\": \"scatter\", \"x\": [1996, 1997, 1998, 1999, 2000, 2001, 2002, 2003, 2004, 2005, 2006, 2007, 2008, 2009, 2010, 2011, 2012, 2013, 2014, 2015, 2016, 2017, 2018], \"xaxis\": \"x\", \"y\": [-5542.026, -7234.78, -9360.322, -11298.12, -12776.75, -12704.29, -11261.33, -10943.74, -15047.3, -18888.43, -21412.15, -23113.4, -30984.72, -25086.12, -24395.95, -14636.55, -3490.975, 3697.078, 360.8886, 455.9313, 2415.177, 2876.7659999999996, 933.5267], \"yaxis\": \"y\"}, {\"hovertemplate\": \"<b>%{hovertext}</b><br><br>color=Latvia<br>line_group=Latvia<br>Time=%{x}<br>Value=%{y}<extra></extra>\", \"hovertext\": [\"Latvia\", \"Latvia\", \"Latvia\", \"Latvia\", \"Latvia\", \"Latvia\", \"Latvia\", \"Latvia\", \"Latvia\", \"Latvia\", \"Latvia\", \"Latvia\", \"Latvia\", \"Latvia\", \"Latvia\", \"Latvia\", \"Latvia\", \"Latvia\", \"Latvia\"], \"legendgroup\": \"Latvia\", \"line\": {\"color\": \"#FECB52\", \"dash\": \"solid\"}, \"mode\": \"lines\", \"name\": \"Latvia\", \"showlegend\": true, \"type\": \"scatter\", \"x\": [2000, 2001, 2002, 2003, 2004, 2005, 2006, 2007, 2008, 2009, 2010, 2011, 2012, 2013, 2014, 2015, 2016, 2017, 2018], \"xaxis\": \"x\", \"y\": [-329.0954, -569.705, -585.4884, -897.7592, -1758.8529999999998, -1989.995, -4428.201, -6461.853, -4411.375, 2154.774, 655.8047, -757.1606, -924.0065, -837.6961, -566.5421, -119.8068, 432.3875, 269.415, -194.7306], \"yaxis\": \"y\"}, {\"hovertemplate\": \"<b>%{hovertext}</b><br><br>color=Netherlands<br>line_group=Netherlands<br>Time=%{x}<br>Value=%{y}<extra></extra>\", \"hovertext\": [\"Netherlands\", \"Netherlands\", \"Netherlands\", \"Netherlands\", \"Netherlands\", \"Netherlands\", \"Netherlands\", \"Netherlands\", \"Netherlands\", \"Netherlands\", \"Netherlands\", \"Netherlands\", \"Netherlands\", \"Netherlands\", \"Netherlands\"], \"legendgroup\": \"Netherlands\", \"line\": {\"color\": \"#636efa\", \"dash\": \"solid\"}, \"mode\": \"lines\", \"name\": \"Netherlands\", \"showlegend\": true, \"type\": \"scatter\", \"x\": [2004, 2005, 2006, 2007, 2008, 2009, 2010, 2011, 2012, 2013, 2014, 2015, 2016, 2017, 2018], \"xaxis\": \"x\", \"y\": [49987.45, 48335.89, 66729.24, 58472.08, 47100.63, 46981.08, 58942.3, 77747.78, 85734.53, 85494.76, 75535.84, 48168.97, 63148.48, 90029.71, 99337.38], \"yaxis\": \"y\"}, {\"hovertemplate\": \"<b>%{hovertext}</b><br><br>color=Germany<br>line_group=Germany<br>Time=%{x}<br>Value=%{y}<extra></extra>\", \"hovertext\": [\"Germany\", \"Germany\", \"Germany\", \"Germany\", \"Germany\", \"Germany\", \"Germany\", \"Germany\", \"Germany\", \"Germany\", \"Germany\", \"Germany\", \"Germany\", \"Germany\", \"Germany\", \"Germany\", \"Germany\", \"Germany\", \"Germany\", \"Germany\", \"Germany\", \"Germany\", \"Germany\", \"Germany\", \"Germany\", \"Germany\", \"Germany\", \"Germany\"], \"legendgroup\": \"Germany\", \"line\": {\"color\": \"#EF553B\", \"dash\": \"solid\"}, \"mode\": \"lines\", \"name\": \"Germany\", \"showlegend\": true, \"type\": \"scatter\", \"x\": [1991, 1992, 1993, 1994, 1995, 1996, 1997, 1998, 1999, 2000, 2001, 2002, 2003, 2004, 2005, 2006, 2007, 2008, 2009, 2010, 2011, 2012, 2013, 2014, 2015, 2016, 2017, 2018], \"xaxis\": \"x\", \"y\": [-26586.56, -25222.5, -21468.71, -33067.47, -32210.08, -16882.08, -11276.07, -15912.33, -31211.55, -34234.76, -7161.721, 39163.48, 35322.3, 127067.7, 132910.0, 172804.7, 234765.8, 211928.0, 198311.9, 195082.8, 232688.5, 251552.0, 244724.0, 279830.7, 288739.8, 294918.1, 286192.0, 291950.7], \"yaxis\": \"y\"}, {\"hovertemplate\": \"<b>%{hovertext}</b><br><br>color=Belgium<br>line_group=Belgium<br>Time=%{x}<br>Value=%{y}<extra></extra>\", \"hovertext\": [\"Belgium\", \"Belgium\", \"Belgium\", \"Belgium\", \"Belgium\", \"Belgium\", \"Belgium\", \"Belgium\", \"Belgium\", \"Belgium\", \"Belgium\", \"Belgium\", \"Belgium\", \"Belgium\", \"Belgium\", \"Belgium\"], \"legendgroup\": \"Belgium\", \"line\": {\"color\": \"#00cc96\", \"dash\": \"solid\"}, \"mode\": \"lines\", \"name\": \"Belgium\", \"showlegend\": true, \"type\": \"scatter\", \"x\": [2003, 2004, 2005, 2006, 2007, 2008, 2009, 2010, 2011, 2012, 2013, 2014, 2015, 2016, 2017, 2018], \"xaxis\": \"x\", \"y\": [11266.74, 12132.14, 8066.545999999999, 7872.0, 9202.921999999999, -5168.262, 7973.043000000001, 7811.47, -10141.02, -402.3104, 4978.112, 4127.664000000001, 6394.130999999999, 2620.865, 6167.236999999999, -7520.142], \"yaxis\": \"y\"}, {\"hovertemplate\": \"<b>%{hovertext}</b><br><br>color=Luxembourg<br>line_group=Luxembourg<br>Time=%{x}<br>Value=%{y}<extra></extra>\", \"hovertext\": [\"Luxembourg\", \"Luxembourg\", \"Luxembourg\", \"Luxembourg\", \"Luxembourg\", \"Luxembourg\", \"Luxembourg\", \"Luxembourg\", \"Luxembourg\", \"Luxembourg\", \"Luxembourg\", \"Luxembourg\", \"Luxembourg\", \"Luxembourg\", \"Luxembourg\", \"Luxembourg\", \"Luxembourg\", \"Luxembourg\", \"Luxembourg\", \"Luxembourg\", \"Luxembourg\", \"Luxembourg\", \"Luxembourg\", \"Luxembourg\"], \"legendgroup\": \"Luxembourg\", \"line\": {\"color\": \"#ab63fa\", \"dash\": \"solid\"}, \"mode\": \"lines\", \"name\": \"Luxembourg\", \"showlegend\": true, \"type\": \"scatter\", \"x\": [1995, 1996, 1997, 1998, 1999, 2000, 2001, 2002, 2003, 2004, 2005, 2006, 2007, 2008, 2009, 2010, 2011, 2012, 2013, 2014, 2015, 2016, 2017, 2018], \"xaxis\": \"x\", \"y\": [2396.416, 2242.331, 1935.41, 1792.854, 1771.219, 2680.684, 1769.8770000000002, 2210.0429999999997, 1918.29, 4097.596, 4101.318, 4202.349, 4952.871, 4225.255, 3702.415, 3548.14, 3630.631, 3200.489, 3343.9640000000004, 3409.867, 2929.719, 3002.384, 3140.545, 3369.429], \"yaxis\": \"y\"}, {\"hovertemplate\": \"<b>%{hovertext}</b><br><br>color=Slovenia<br>line_group=Slovenia<br>Time=%{x}<br>Value=%{y}<extra></extra>\", \"hovertext\": [\"Slovenia\", \"Slovenia\", \"Slovenia\", \"Slovenia\", \"Slovenia\", \"Slovenia\", \"Slovenia\", \"Slovenia\", \"Slovenia\", \"Slovenia\", \"Slovenia\", \"Slovenia\", \"Slovenia\", \"Slovenia\", \"Slovenia\", \"Slovenia\", \"Slovenia\", \"Slovenia\", \"Slovenia\", \"Slovenia\", \"Slovenia\", \"Slovenia\", \"Slovenia\", \"Slovenia\"], \"legendgroup\": \"Slovenia\", \"line\": {\"color\": \"#FFA15A\", \"dash\": \"solid\"}, \"mode\": \"lines\", \"name\": \"Slovenia\", \"showlegend\": true, \"type\": \"scatter\", \"x\": [1995, 1996, 1997, 1998, 1999, 2000, 2001, 2002, 2003, 2004, 2005, 2006, 2007, 2008, 2009, 2010, 2011, 2012, 2013, 2014, 2015, 2016, 2017, 2018], \"xaxis\": \"x\", \"y\": [-149.6223, 21.2439, 31.51414, -190.4032, -912.3158, -656.5258, 6.910319, 215.4508, -248.7632, -930.4957, -651.622, -727.5883, -1987.719, -2944.5209999999997, -534.7316, -360.9063, -419.5179, 615.8049, 1597.9070000000002, 2553.154, 1644.4589999999998, 2147.561, 3030.975, 3285.4], \"yaxis\": \"y\"}, {\"hovertemplate\": \"<b>%{hovertext}</b><br><br>color=Hungary<br>line_group=Hungary<br>Time=%{x}<br>Value=%{y}<extra></extra>\", \"hovertext\": [\"Hungary\", \"Hungary\", \"Hungary\", \"Hungary\", \"Hungary\", \"Hungary\", \"Hungary\", \"Hungary\", \"Hungary\", \"Hungary\", \"Hungary\", \"Hungary\", \"Hungary\", \"Hungary\", \"Hungary\", \"Hungary\", \"Hungary\", \"Hungary\", \"Hungary\", \"Hungary\", \"Hungary\", \"Hungary\", \"Hungary\", \"Hungary\"], \"legendgroup\": \"Hungary\", \"line\": {\"color\": \"#19d3f3\", \"dash\": \"solid\"}, \"mode\": \"lines\", \"name\": \"Hungary\", \"showlegend\": true, \"type\": \"scatter\", \"x\": [1995, 1996, 1997, 1998, 1999, 2000, 2001, 2002, 2003, 2004, 2005, 2006, 2007, 2008, 2009, 2010, 2011, 2012, 2013, 2014, 2015, 2016, 2017, 2018], \"xaxis\": \"x\", \"y\": [-1572.6660000000002, -1847.6689999999999, -2085.109, -3714.3909999999996, -4096.157, -4187.6759999999995, -3298.6420000000003, -4301.244000000001, -7020.553000000001, -9461.244, -8126.479, -8416.011999999999, -10172.74, -11155.93, -954.1465, 392.1499, 835.3893, 2032.781, 4680.5070000000005, 1651.0870000000002, 2906.703, 5825.215, 3318.8140000000003, 19.01146], \"yaxis\": \"y\"}, {\"hovertemplate\": \"<b>%{hovertext}</b><br><br>color=Finland<br>line_group=Finland<br>Time=%{x}<br>Value=%{y}<extra></extra>\", \"hovertext\": [\"Finland\", \"Finland\", \"Finland\", \"Finland\", \"Finland\", \"Finland\", \"Finland\", \"Finland\", \"Finland\", \"Finland\", \"Finland\", \"Finland\", \"Finland\", \"Finland\", \"Finland\", \"Finland\", \"Finland\", \"Finland\", \"Finland\", \"Finland\", \"Finland\", \"Finland\", \"Finland\", \"Finland\"], \"legendgroup\": \"Finland\", \"line\": {\"color\": \"#FF6692\", \"dash\": \"solid\"}, \"mode\": \"lines\", \"name\": \"Finland\", \"showlegend\": true, \"type\": \"scatter\", \"x\": [1995, 1996, 1997, 1998, 1999, 2000, 2001, 2002, 2003, 2004, 2005, 2006, 2007, 2008, 2009, 2010, 2011, 2012, 2013, 2014, 2015, 2016, 2017, 2018], \"xaxis\": \"x\", \"y\": [5572.799, 5095.424, 6538.467, 6855.334, 6996.7609999999995, 9477.963, 10425.29, 11492.89, 7949.155, 11382.82, 6230.275, 8527.706, 10312.32, 7219.485, 5040.286, 3709.72, -3962.9640000000004, -5309.726, -4873.24, -3659.304, -2194.239, -4873.482, -1929.868, -4490.605], \"yaxis\": \"y\"}, {\"hovertemplate\": \"<b>%{hovertext}</b><br><br>color=Greece<br>line_group=Greece<br>Time=%{x}<br>Value=%{y}<extra></extra>\", \"hovertext\": [\"Greece\", \"Greece\", \"Greece\", \"Greece\", \"Greece\", \"Greece\", \"Greece\", \"Greece\", \"Greece\", \"Greece\", \"Greece\", \"Greece\", \"Greece\", \"Greece\", \"Greece\", \"Greece\", \"Greece\"], \"legendgroup\": \"Greece\", \"line\": {\"color\": \"#B6E880\", \"dash\": \"solid\"}, \"mode\": \"lines\", \"name\": \"Greece\", \"showlegend\": true, \"type\": \"scatter\", \"x\": [2002, 2003, 2004, 2005, 2006, 2007, 2008, 2009, 2010, 2011, 2012, 2013, 2014, 2015, 2016, 2017, 2018], \"xaxis\": \"x\", \"y\": [-10522.45, -17080.46, -18557.22, -21965.66, -31409.67, -48380.16, -53467.75, -40741.85, -29999.6, -24792.86, -8562.914, -3435.5609999999997, -1751.371, -1594.095, -3372.844, -3839.446, -6173.55], \"yaxis\": \"y\"}, {\"hovertemplate\": \"<b>%{hovertext}</b><br><br>color=Norway<br>line_group=Norway<br>Time=%{x}<br>Value=%{y}<extra></extra>\", \"hovertext\": [\"Norway\", \"Norway\", \"Norway\", \"Norway\", \"Norway\", \"Norway\", \"Norway\", \"Norway\", \"Norway\", \"Norway\", \"Norway\", \"Norway\", \"Norway\", \"Norway\", \"Norway\", \"Norway\", \"Norway\", \"Norway\", \"Norway\", \"Norway\", \"Norway\", \"Norway\", \"Norway\", \"Norway\", \"Norway\", \"Norway\", \"Norway\", \"Norway\", \"Norway\"], \"legendgroup\": \"Norway\", \"line\": {\"color\": \"#FF97FF\", \"dash\": \"solid\"}, \"mode\": \"lines\", \"name\": \"Norway\", \"showlegend\": true, \"type\": \"scatter\", \"x\": [1990, 1991, 1992, 1993, 1994, 1995, 1996, 1997, 1998, 1999, 2000, 2001, 2002, 2003, 2004, 2005, 2006, 2007, 2008, 2009, 2010, 2011, 2012, 2013, 2014, 2015, 2016, 2017, 2018], \"xaxis\": \"x\", \"y\": [2943.4640000000004, 4381.599, 4469.884, 3521.7859999999996, 3736.531, 5316.085999999999, 10991.11, 9939.035, -475.7961, 8918.669, 25279.86, 27538.51, 24084.49, 27582.94, 32734.56, 50845.11, 56418.77, 49816.9, 73027.84, 41543.85, 47306.73, 62386.89, 63386.76, 53468.38, 54906.41, 30855.3, 14828.89, 18615.14, 31010.13], \"yaxis\": \"y\"}, {\"hovertemplate\": \"<b>%{hovertext}</b><br><br>color=Denmark<br>line_group=Denmark<br>Time=%{x}<br>Value=%{y}<extra></extra>\", \"hovertext\": [\"Denmark\", \"Denmark\", \"Denmark\", \"Denmark\", \"Denmark\", \"Denmark\", \"Denmark\", \"Denmark\", \"Denmark\", \"Denmark\", \"Denmark\", \"Denmark\", \"Denmark\", \"Denmark\"], \"legendgroup\": \"Denmark\", \"line\": {\"color\": \"#FECB52\", \"dash\": \"solid\"}, \"mode\": \"lines\", \"name\": \"Denmark\", \"showlegend\": true, \"type\": \"scatter\", \"x\": [2005, 2006, 2007, 2008, 2009, 2010, 2011, 2012, 2013, 2014, 2015, 2016, 2017, 2018], \"xaxis\": \"x\", \"y\": [11088.55, 9411.56, 4622.107, 10306.05, 11135.54, 21140.37, 22705.0, 20558.58, 26651.76, 31467.09, 24964.43, 24343.82, 25549.57, 25004.84], \"yaxis\": \"y\"}, {\"hovertemplate\": \"<b>%{hovertext}</b><br><br>color=Spain<br>line_group=Spain<br>Time=%{x}<br>Value=%{y}<extra></extra>\", \"hovertext\": [\"Spain\", \"Spain\", \"Spain\", \"Spain\", \"Spain\", \"Spain\", \"Spain\", \"Spain\", \"Spain\", \"Spain\", \"Spain\", \"Spain\", \"Spain\", \"Spain\", \"Spain\", \"Spain\", \"Spain\", \"Spain\", \"Spain\", \"Spain\", \"Spain\", \"Spain\", \"Spain\", \"Spain\", \"Spain\", \"Spain\"], \"legendgroup\": \"Spain\", \"line\": {\"color\": \"#636efa\", \"dash\": \"solid\"}, \"mode\": \"lines\", \"name\": \"Spain\", \"showlegend\": true, \"type\": \"scatter\", \"x\": [1993, 1994, 1995, 1996, 1997, 1998, 1999, 2000, 2001, 2002, 2003, 2004, 2005, 2006, 2007, 2008, 2009, 2010, 2011, 2012, 2013, 2014, 2015, 2016, 2017, 2018], \"xaxis\": \"x\", \"y\": [-10783.99, -11552.33, -7671.717, -5496.255, -4276.354, -10412.28, -20560.16, -25732.28, -27468.34, -26348.05, -35195.77, -58537.98, -83609.72, -111524.2, -138877.5, -144423.3, -60734.89, -51936.08, -40285.96, 1137.5230000000001, 27613.25, 23270.68, 24215.39, 39113.93, 35039.73, 27479.44], \"yaxis\": \"y\"}, {\"hovertemplate\": \"<b>%{hovertext}</b><br><br>color=Poland<br>line_group=Poland<br>Time=%{x}<br>Value=%{y}<extra></extra>\", \"hovertext\": [\"Poland\", \"Poland\", \"Poland\", \"Poland\", \"Poland\", \"Poland\", \"Poland\", \"Poland\", \"Poland\", \"Poland\", \"Poland\", \"Poland\", \"Poland\", \"Poland\", \"Poland\"], \"legendgroup\": \"Poland\", \"line\": {\"color\": \"#EF553B\", \"dash\": \"solid\"}, \"mode\": \"lines\", \"name\": \"Poland\", \"showlegend\": true, \"type\": \"scatter\", \"x\": [2004, 2005, 2006, 2007, 2008, 2009, 2010, 2011, 2012, 2013, 2014, 2015, 2016, 2017, 2018], \"xaxis\": \"x\", \"y\": [-13954.22, -7976.422, -13772.62, -27181.71, -35594.15, -17398.4, -25768.0, -27478.12, -18566.1, -6619.981, -11265.38, -2679.937, -2449.223, 378.6387, -6011.795999999999], \"yaxis\": \"y\"}, {\"hovertemplate\": \"<b>%{hovertext}</b><br><br>color=Turkey<br>line_group=Turkey<br>Time=%{x}<br>Value=%{y}<extra></extra>\", \"hovertext\": [\"Turkey\", \"Turkey\", \"Turkey\", \"Turkey\", \"Turkey\", \"Turkey\", \"Turkey\", \"Turkey\", \"Turkey\", \"Turkey\", \"Turkey\", \"Turkey\", \"Turkey\", \"Turkey\", \"Turkey\", \"Turkey\", \"Turkey\", \"Turkey\", \"Turkey\", \"Turkey\", \"Turkey\", \"Turkey\", \"Turkey\", \"Turkey\", \"Turkey\", \"Turkey\", \"Turkey\"], \"legendgroup\": \"Turkey\", \"line\": {\"color\": \"#00cc96\", \"dash\": \"solid\"}, \"mode\": \"lines\", \"name\": \"Turkey\", \"showlegend\": true, \"type\": \"scatter\", \"x\": [1992, 1993, 1994, 1995, 1996, 1997, 1998, 1999, 2000, 2001, 2002, 2003, 2004, 2005, 2006, 2007, 2008, 2009, 2010, 2011, 2012, 2013, 2014, 2015, 2016, 2017, 2018], \"xaxis\": \"x\", \"y\": [-974.0, -6433.0, 2631.0, -2339.0, -2437.0, -2638.0, 2000.0, -925.0, -9920.0, 3760.0, -626.0, -7554.0, -14198.0, -20980.0, -31089.0, -36795.0, -39297.0, -11167.0, -44460.0, -74234.0, -47966.7, -63646.24, -43644.71, -32179.9, -26841.91, -40590.93, -20768.52], \"yaxis\": \"y\"}, {\"hovertemplate\": \"<b>%{hovertext}</b><br><br>color=Sweden<br>line_group=Sweden<br>Time=%{x}<br>Value=%{y}<extra></extra>\", \"hovertext\": [\"Sweden\", \"Sweden\", \"Sweden\", \"Sweden\", \"Sweden\", \"Sweden\", \"Sweden\", \"Sweden\", \"Sweden\", \"Sweden\", \"Sweden\", \"Sweden\", \"Sweden\", \"Sweden\", \"Sweden\", \"Sweden\", \"Sweden\", \"Sweden\", \"Sweden\", \"Sweden\", \"Sweden\", \"Sweden\", \"Sweden\", \"Sweden\", \"Sweden\", \"Sweden\", \"Sweden\", \"Sweden\", \"Sweden\"], \"legendgroup\": \"Sweden\", \"line\": {\"color\": \"#ab63fa\", \"dash\": \"solid\"}, \"mode\": \"lines\", \"name\": \"Sweden\", \"showlegend\": true, \"type\": \"scatter\", \"x\": [1990, 1991, 1992, 1993, 1994, 1995, 1996, 1997, 1998, 1999, 2000, 2001, 2002, 2003, 2004, 2005, 2006, 2007, 2008, 2009, 2010, 2011, 2012, 2013, 2014, 2015, 2016, 2017, 2018], \"xaxis\": \"x\", \"y\": [-6244.794, -4699.722, -7372.1140000000005, -2593.688, 2363.88, 8425.878, 9627.737, 10327.17, 9706.712, 10655.21, 10298.13, 11361.55, 11853.67, 19524.96, 22933.99, 23542.95, 34461.74, 39875.82, 40273.42, 25929.47, 29142.66, 31389.6, 30414.68, 30290.32, 26101.19, 20718.27, 18255.34, 16596.52, 9736.362], \"yaxis\": \"y\"}],\n",
       "                        {\"legend\": {\"title\": {\"text\": \"color\"}, \"tracegroupgap\": 0}, \"margin\": {\"t\": 60}, \"showlegend\": false, \"template\": {\"data\": {\"bar\": [{\"error_x\": {\"color\": \"#2a3f5f\"}, \"error_y\": {\"color\": \"#2a3f5f\"}, \"marker\": {\"line\": {\"color\": \"#E5ECF6\", \"width\": 0.5}}, \"type\": \"bar\"}], \"barpolar\": [{\"marker\": {\"line\": {\"color\": \"#E5ECF6\", \"width\": 0.5}}, \"type\": \"barpolar\"}], \"carpet\": [{\"aaxis\": {\"endlinecolor\": \"#2a3f5f\", \"gridcolor\": \"white\", \"linecolor\": \"white\", \"minorgridcolor\": \"white\", \"startlinecolor\": \"#2a3f5f\"}, \"baxis\": {\"endlinecolor\": \"#2a3f5f\", \"gridcolor\": \"white\", \"linecolor\": \"white\", \"minorgridcolor\": \"white\", \"startlinecolor\": \"#2a3f5f\"}, \"type\": \"carpet\"}], \"choropleth\": [{\"colorbar\": {\"outlinewidth\": 0, \"ticks\": \"\"}, \"type\": \"choropleth\"}], \"contour\": [{\"colorbar\": {\"outlinewidth\": 0, \"ticks\": \"\"}, \"colorscale\": [[0.0, \"#0d0887\"], [0.1111111111111111, \"#46039f\"], [0.2222222222222222, \"#7201a8\"], [0.3333333333333333, \"#9c179e\"], [0.4444444444444444, \"#bd3786\"], [0.5555555555555556, \"#d8576b\"], [0.6666666666666666, \"#ed7953\"], [0.7777777777777778, \"#fb9f3a\"], [0.8888888888888888, \"#fdca26\"], [1.0, \"#f0f921\"]], \"type\": \"contour\"}], \"contourcarpet\": [{\"colorbar\": {\"outlinewidth\": 0, \"ticks\": \"\"}, \"type\": \"contourcarpet\"}], \"heatmap\": [{\"colorbar\": {\"outlinewidth\": 0, \"ticks\": \"\"}, \"colorscale\": [[0.0, \"#0d0887\"], [0.1111111111111111, \"#46039f\"], [0.2222222222222222, \"#7201a8\"], [0.3333333333333333, \"#9c179e\"], [0.4444444444444444, \"#bd3786\"], [0.5555555555555556, \"#d8576b\"], [0.6666666666666666, \"#ed7953\"], [0.7777777777777778, \"#fb9f3a\"], [0.8888888888888888, \"#fdca26\"], [1.0, \"#f0f921\"]], \"type\": \"heatmap\"}], \"heatmapgl\": [{\"colorbar\": {\"outlinewidth\": 0, \"ticks\": \"\"}, \"colorscale\": [[0.0, \"#0d0887\"], [0.1111111111111111, \"#46039f\"], [0.2222222222222222, \"#7201a8\"], [0.3333333333333333, \"#9c179e\"], [0.4444444444444444, \"#bd3786\"], [0.5555555555555556, \"#d8576b\"], [0.6666666666666666, \"#ed7953\"], [0.7777777777777778, \"#fb9f3a\"], [0.8888888888888888, \"#fdca26\"], [1.0, \"#f0f921\"]], \"type\": \"heatmapgl\"}], \"histogram\": [{\"marker\": {\"colorbar\": {\"outlinewidth\": 0, \"ticks\": \"\"}}, \"type\": \"histogram\"}], \"histogram2d\": [{\"colorbar\": {\"outlinewidth\": 0, \"ticks\": \"\"}, \"colorscale\": [[0.0, \"#0d0887\"], [0.1111111111111111, \"#46039f\"], [0.2222222222222222, \"#7201a8\"], [0.3333333333333333, \"#9c179e\"], [0.4444444444444444, \"#bd3786\"], [0.5555555555555556, \"#d8576b\"], [0.6666666666666666, \"#ed7953\"], [0.7777777777777778, \"#fb9f3a\"], [0.8888888888888888, \"#fdca26\"], [1.0, \"#f0f921\"]], \"type\": \"histogram2d\"}], \"histogram2dcontour\": [{\"colorbar\": {\"outlinewidth\": 0, \"ticks\": \"\"}, \"colorscale\": [[0.0, \"#0d0887\"], [0.1111111111111111, \"#46039f\"], [0.2222222222222222, \"#7201a8\"], [0.3333333333333333, \"#9c179e\"], [0.4444444444444444, \"#bd3786\"], [0.5555555555555556, \"#d8576b\"], [0.6666666666666666, \"#ed7953\"], [0.7777777777777778, \"#fb9f3a\"], [0.8888888888888888, \"#fdca26\"], [1.0, \"#f0f921\"]], \"type\": \"histogram2dcontour\"}], \"mesh3d\": [{\"colorbar\": {\"outlinewidth\": 0, \"ticks\": \"\"}, \"type\": \"mesh3d\"}], \"parcoords\": [{\"line\": {\"colorbar\": {\"outlinewidth\": 0, \"ticks\": \"\"}}, \"type\": \"parcoords\"}], \"pie\": [{\"automargin\": true, \"type\": \"pie\"}], \"scatter\": [{\"marker\": {\"colorbar\": {\"outlinewidth\": 0, \"ticks\": \"\"}}, \"type\": \"scatter\"}], \"scatter3d\": [{\"line\": {\"colorbar\": {\"outlinewidth\": 0, \"ticks\": \"\"}}, \"marker\": {\"colorbar\": {\"outlinewidth\": 0, \"ticks\": \"\"}}, \"type\": \"scatter3d\"}], \"scattercarpet\": [{\"marker\": {\"colorbar\": {\"outlinewidth\": 0, \"ticks\": \"\"}}, \"type\": \"scattercarpet\"}], \"scattergeo\": [{\"marker\": {\"colorbar\": {\"outlinewidth\": 0, \"ticks\": \"\"}}, \"type\": \"scattergeo\"}], \"scattergl\": [{\"marker\": {\"colorbar\": {\"outlinewidth\": 0, \"ticks\": \"\"}}, \"type\": \"scattergl\"}], \"scattermapbox\": [{\"marker\": {\"colorbar\": {\"outlinewidth\": 0, \"ticks\": \"\"}}, \"type\": \"scattermapbox\"}], \"scatterpolar\": [{\"marker\": {\"colorbar\": {\"outlinewidth\": 0, \"ticks\": \"\"}}, \"type\": \"scatterpolar\"}], \"scatterpolargl\": [{\"marker\": {\"colorbar\": {\"outlinewidth\": 0, \"ticks\": \"\"}}, \"type\": \"scatterpolargl\"}], \"scatterternary\": [{\"marker\": {\"colorbar\": {\"outlinewidth\": 0, \"ticks\": \"\"}}, \"type\": \"scatterternary\"}], \"surface\": [{\"colorbar\": {\"outlinewidth\": 0, \"ticks\": \"\"}, \"colorscale\": [[0.0, \"#0d0887\"], [0.1111111111111111, \"#46039f\"], [0.2222222222222222, \"#7201a8\"], [0.3333333333333333, \"#9c179e\"], [0.4444444444444444, \"#bd3786\"], [0.5555555555555556, \"#d8576b\"], [0.6666666666666666, \"#ed7953\"], [0.7777777777777778, \"#fb9f3a\"], [0.8888888888888888, \"#fdca26\"], [1.0, \"#f0f921\"]], \"type\": \"surface\"}], \"table\": [{\"cells\": {\"fill\": {\"color\": \"#EBF0F8\"}, \"line\": {\"color\": \"white\"}}, \"header\": {\"fill\": {\"color\": \"#C8D4E3\"}, \"line\": {\"color\": \"white\"}}, \"type\": \"table\"}]}, \"layout\": {\"annotationdefaults\": {\"arrowcolor\": \"#2a3f5f\", \"arrowhead\": 0, \"arrowwidth\": 1}, \"coloraxis\": {\"colorbar\": {\"outlinewidth\": 0, \"ticks\": \"\"}}, \"colorscale\": {\"diverging\": [[0, \"#8e0152\"], [0.1, \"#c51b7d\"], [0.2, \"#de77ae\"], [0.3, \"#f1b6da\"], [0.4, \"#fde0ef\"], [0.5, \"#f7f7f7\"], [0.6, \"#e6f5d0\"], [0.7, \"#b8e186\"], [0.8, \"#7fbc41\"], [0.9, \"#4d9221\"], [1, \"#276419\"]], \"sequential\": [[0.0, \"#0d0887\"], [0.1111111111111111, \"#46039f\"], [0.2222222222222222, \"#7201a8\"], [0.3333333333333333, \"#9c179e\"], [0.4444444444444444, \"#bd3786\"], [0.5555555555555556, \"#d8576b\"], [0.6666666666666666, \"#ed7953\"], [0.7777777777777778, \"#fb9f3a\"], [0.8888888888888888, \"#fdca26\"], [1.0, \"#f0f921\"]], \"sequentialminus\": [[0.0, \"#0d0887\"], [0.1111111111111111, \"#46039f\"], [0.2222222222222222, \"#7201a8\"], [0.3333333333333333, \"#9c179e\"], [0.4444444444444444, \"#bd3786\"], [0.5555555555555556, \"#d8576b\"], [0.6666666666666666, \"#ed7953\"], [0.7777777777777778, \"#fb9f3a\"], [0.8888888888888888, \"#fdca26\"], [1.0, \"#f0f921\"]]}, \"colorway\": [\"#636efa\", \"#EF553B\", \"#00cc96\", \"#ab63fa\", \"#FFA15A\", \"#19d3f3\", \"#FF6692\", \"#B6E880\", \"#FF97FF\", \"#FECB52\"], \"font\": {\"color\": \"#2a3f5f\"}, \"geo\": {\"bgcolor\": \"white\", \"lakecolor\": \"white\", \"landcolor\": \"#E5ECF6\", \"showlakes\": true, \"showland\": true, \"subunitcolor\": \"white\"}, \"hoverlabel\": {\"align\": \"left\"}, \"hovermode\": \"closest\", \"mapbox\": {\"style\": \"light\"}, \"paper_bgcolor\": \"white\", \"plot_bgcolor\": \"#E5ECF6\", \"polar\": {\"angularaxis\": {\"gridcolor\": \"white\", \"linecolor\": \"white\", \"ticks\": \"\"}, \"bgcolor\": \"#E5ECF6\", \"radialaxis\": {\"gridcolor\": \"white\", \"linecolor\": \"white\", \"ticks\": \"\"}}, \"scene\": {\"xaxis\": {\"backgroundcolor\": \"#E5ECF6\", \"gridcolor\": \"white\", \"gridwidth\": 2, \"linecolor\": \"white\", \"showbackground\": true, \"ticks\": \"\", \"zerolinecolor\": \"white\"}, \"yaxis\": {\"backgroundcolor\": \"#E5ECF6\", \"gridcolor\": \"white\", \"gridwidth\": 2, \"linecolor\": \"white\", \"showbackground\": true, \"ticks\": \"\", \"zerolinecolor\": \"white\"}, \"zaxis\": {\"backgroundcolor\": \"#E5ECF6\", \"gridcolor\": \"white\", \"gridwidth\": 2, \"linecolor\": \"white\", \"showbackground\": true, \"ticks\": \"\", \"zerolinecolor\": \"white\"}}, \"shapedefaults\": {\"line\": {\"color\": \"#2a3f5f\"}}, \"ternary\": {\"aaxis\": {\"gridcolor\": \"white\", \"linecolor\": \"white\", \"ticks\": \"\"}, \"baxis\": {\"gridcolor\": \"white\", \"linecolor\": \"white\", \"ticks\": \"\"}, \"bgcolor\": \"#E5ECF6\", \"caxis\": {\"gridcolor\": \"white\", \"linecolor\": \"white\", \"ticks\": \"\"}}, \"title\": {\"x\": 0.05}, \"xaxis\": {\"automargin\": true, \"gridcolor\": \"white\", \"linecolor\": \"white\", \"ticks\": \"\", \"title\": {\"standoff\": 15}, \"zerolinecolor\": \"white\", \"zerolinewidth\": 2}, \"yaxis\": {\"automargin\": true, \"gridcolor\": \"white\", \"linecolor\": \"white\", \"ticks\": \"\", \"title\": {\"standoff\": 15}, \"zerolinecolor\": \"white\", \"zerolinewidth\": 2}}}, \"title\": {\"text\": \"Current account-balance, Europe\"}, \"xaxis\": {\"anchor\": \"y\", \"domain\": [0.0, 1.0], \"title\": {\"text\": \"Time\"}}, \"yaxis\": {\"anchor\": \"x\", \"domain\": [0.0, 1.0], \"title\": {\"text\": \"Value\"}}},\n",
       "                        {\"responsive\": true}\n",
       "                    ).then(function(){\n",
       "                            \n",
       "var gd = document.getElementById('d498b2a4-91d2-429b-a8eb-5530606b955a');\n",
       "var x = new MutationObserver(function (mutations, observer) {{\n",
       "        var display = window.getComputedStyle(gd).display;\n",
       "        if (!display || display === 'none') {{\n",
       "            console.log([gd, 'removed!']);\n",
       "            Plotly.purge(gd);\n",
       "            observer.disconnect();\n",
       "        }}\n",
       "}});\n",
       "\n",
       "// Listen for the removal of the full notebook cells\n",
       "var notebookContainer = gd.closest('#notebook-container');\n",
       "if (notebookContainer) {{\n",
       "    x.observe(notebookContainer, {childList: true});\n",
       "}}\n",
       "\n",
       "// Listen for the clearing of the current output cell\n",
       "var outputEl = gd.closest('.output');\n",
       "if (outputEl) {{\n",
       "    x.observe(outputEl, {childList: true});\n",
       "}}\n",
       "\n",
       "                        })\n",
       "                };\n",
       "                });\n",
       "            </script>\n",
       "        </div>"
      ]
     },
     "metadata": {},
     "output_type": "display_data"
    }
   ],
   "source": [
    "import plotly.graph_objs as go\n",
    "import plotly.express as px\n",
    "import pandas as pd\n",
    "fig = px.line(cdf_current_usd, x='Time', y='Value',\n",
    "              color=cdf_current_usd.index,\n",
    "              line_group=cdf_current_usd.index, hover_name=cdf_current_usd.index)\n",
    "fig.update_layout(title='Current account-balance, Europe' , showlegend=False)\n",
    "fig.show()"
   ]
  },
  {
   "cell_type": "markdown",
   "metadata": {},
   "source": [
    "# Conclusion\n",
    "we can see that Germany's current balance is the highest of aprox 300k by the wnd of 2018 while germany as the least current balance duing 90's. So,we can say that there is a huge raise in income of germany that implies to imports and exports of the country.While Turkey has the least current balance when compared to other EU countries.\n",
    "Spain has a huge fall in current income between 2005 to 2010.then the country gradually recovered.From the above graph we can conclude that average EU balance is almost 25k US dollars."
   ]
  }
 ],
 "metadata": {
  "kernelspec": {
   "display_name": "Python 3",
   "language": "python",
   "name": "python3"
  },
  "language_info": {
   "codemirror_mode": {
    "name": "ipython",
    "version": 3
   },
   "file_extension": ".py",
   "mimetype": "text/x-python",
   "name": "python",
   "nbconvert_exporter": "python",
   "pygments_lexer": "ipython3",
   "version": "3.7.5"
  }
 },
 "nbformat": 4,
 "nbformat_minor": 4
}
